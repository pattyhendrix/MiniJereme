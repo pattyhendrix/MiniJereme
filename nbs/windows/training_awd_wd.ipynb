{
 "cells": [
  {
   "cell_type": "markdown",
   "metadata": {},
   "source": [
    "# imports"
   ]
  },
  {
   "cell_type": "code",
   "execution_count": 1,
   "metadata": {},
   "outputs": [
    {
     "data": {
      "text/plain": [
       "'C:\\\\Users\\\\jpatn\\\\Projects\\\\jhlm'"
      ]
     },
     "execution_count": 1,
     "metadata": {},
     "output_type": "execute_result"
    }
   ],
   "source": [
    "%reload_ext autoreload\n",
    "%autoreload 2\n",
    "%matplotlib inline\n",
    "%pwd"
   ]
  },
  {
   "cell_type": "code",
   "execution_count": 2,
   "metadata": {},
   "outputs": [],
   "source": [
    "from fastai import *\n",
    "from fastai.text import *\n",
    "from fastai.callbacks import *"
   ]
  },
  {
   "cell_type": "code",
   "execution_count": 3,
   "metadata": {},
   "outputs": [],
   "source": [
    "path = Path('C:/Users/jpatn/Projects/languagemodel/')\n",
    "df = pd.read_csv(path/'alllessons3.csv')"
   ]
  },
  {
   "cell_type": "code",
   "execution_count": 4,
   "metadata": {},
   "outputs": [
    {
     "data": {
      "text/plain": [
       "[WindowsPath('C:/Users/jpatn/Projects/languagemodel/.ipynb_checkpoints'),\n",
       " WindowsPath('C:/Users/jpatn/Projects/languagemodel/alllessons.csv'),\n",
       " WindowsPath('C:/Users/jpatn/Projects/languagemodel/alllessons.xlsx'),\n",
       " WindowsPath('C:/Users/jpatn/Projects/languagemodel/alllessons2.csv'),\n",
       " WindowsPath('C:/Users/jpatn/Projects/languagemodel/alllessons3.csv'),\n",
       " WindowsPath('C:/Users/jpatn/Projects/languagemodel/alllessons3.xlsx'),\n",
       " WindowsPath('C:/Users/jpatn/Projects/languagemodel/alllessons4.csv'),\n",
       " WindowsPath('C:/Users/jpatn/Projects/languagemodel/alllessons4.xlsx'),\n",
       " WindowsPath('C:/Users/jpatn/Projects/languagemodel/ConvertingData.ipynb'),\n",
       " WindowsPath('C:/Users/jpatn/Projects/languagemodel/ConvertingDataUbuntu.ipynb'),\n",
       " WindowsPath('C:/Users/jpatn/Projects/languagemodel/data_save.pkl'),\n",
       " WindowsPath('C:/Users/jpatn/Projects/languagemodel/export.pkl'),\n",
       " WindowsPath('C:/Users/jpatn/Projects/languagemodel/export_lm.pkl'),\n",
       " WindowsPath('C:/Users/jpatn/Projects/languagemodel/jhlm-pic.jpg'),\n",
       " WindowsPath('C:/Users/jpatn/Projects/languagemodel/jhlm_wd.pkl'),\n",
       " WindowsPath('C:/Users/jpatn/Projects/languagemodel/lesson3-imdb.ipynb'),\n",
       " WindowsPath('C:/Users/jpatn/Projects/languagemodel/models'),\n",
       " WindowsPath('C:/Users/jpatn/Projects/languagemodel/testing.ipynb'),\n",
       " WindowsPath('C:/Users/jpatn/Projects/languagemodel/training-1.ipynb'),\n",
       " WindowsPath('C:/Users/jpatn/Projects/languagemodel/training-2.ipynb'),\n",
       " WindowsPath('C:/Users/jpatn/Projects/languagemodel/training-3.ipynb'),\n",
       " WindowsPath('C:/Users/jpatn/Projects/languagemodel/training-awd1.ipynb'),\n",
       " WindowsPath('C:/Users/jpatn/Projects/languagemodel/training-awd2.ipynb'),\n",
       " WindowsPath('C:/Users/jpatn/Projects/languagemodel/training-awd3.ipynb'),\n",
       " WindowsPath('C:/Users/jpatn/Projects/languagemodel/training-transformer1.ipynb'),\n",
       " WindowsPath('C:/Users/jpatn/Projects/languagemodel/training1Transformer.ipynb'),\n",
       " WindowsPath('C:/Users/jpatn/Projects/languagemodel/training1TransformerSmall.ipynb'),\n",
       " WindowsPath('C:/Users/jpatn/Projects/languagemodel/trainingIMDB.ipynb')]"
      ]
     },
     "execution_count": 4,
     "metadata": {},
     "output_type": "execute_result"
    }
   ],
   "source": [
    "path.ls()"
   ]
  },
  {
   "cell_type": "code",
   "execution_count": 5,
   "metadata": {},
   "outputs": [
    {
     "data": {
      "text/html": [
       "<div>\n",
       "<style scoped>\n",
       "    .dataframe tbody tr th:only-of-type {\n",
       "        vertical-align: middle;\n",
       "    }\n",
       "\n",
       "    .dataframe tbody tr th {\n",
       "        vertical-align: top;\n",
       "    }\n",
       "\n",
       "    .dataframe thead th {\n",
       "        text-align: right;\n",
       "    }\n",
       "</style>\n",
       "<table border=\"1\" class=\"dataframe\">\n",
       "  <thead>\n",
       "    <tr style=\"text-align: right;\">\n",
       "      <th></th>\n",
       "      <th>okay so welcome practical deep learning for coders less than one it's kind of lesson two because there's a lesson zero in less than zero is is why do you need a GPU and how do you get it set up so if you haven't got the GPU running yet then go back and do that make sure that you can access a jupiter notebook and and then you're ready to start the real lesson one so if you're ready you will be able to see something like this and in particular hopefully you have gone to notebook tutorial it's</th>\n",
       "    </tr>\n",
       "  </thead>\n",
       "  <tbody>\n",
       "    <tr>\n",
       "      <th>0</th>\n",
       "      <td>at the top that's right with zero zero here as...</td>\n",
       "    </tr>\n",
       "    <tr>\n",
       "      <th>1</th>\n",
       "      <td>Python before so nearly all of you that's grea...</td>\n",
       "    </tr>\n",
       "    <tr>\n",
       "      <th>2</th>\n",
       "      <td>really for the book audience not for you that'...</td>\n",
       "    </tr>\n",
       "    <tr>\n",
       "      <th>3</th>\n",
       "      <td>interactive experiments and it lets us give yo...</td>\n",
       "    </tr>\n",
       "    <tr>\n",
       "      <th>4</th>\n",
       "      <td>to speed where you can follow along it's desig...</td>\n",
       "    </tr>\n",
       "  </tbody>\n",
       "</table>\n",
       "</div>"
      ],
      "text/plain": [
       "  okay so welcome practical deep learning for coders less than one it's kind of lesson two because there's a lesson zero in less than zero is is why do you need a GPU and how do you get it set up so if you haven't got the GPU running yet then go back and do that make sure that you can access a jupiter notebook and and then you're ready to start the real lesson one so if you're ready you will be able to see something like this and in particular hopefully you have gone to notebook tutorial it's\n",
       "0  at the top that's right with zero zero here as...                                                                                                                                                                                                                                                                                                                                                                                                                                                             \n",
       "1  Python before so nearly all of you that's grea...                                                                                                                                                                                                                                                                                                                                                                                                                                                             \n",
       "2  really for the book audience not for you that'...                                                                                                                                                                                                                                                                                                                                                                                                                                                             \n",
       "3  interactive experiments and it lets us give yo...                                                                                                                                                                                                                                                                                                                                                                                                                                                             \n",
       "4  to speed where you can follow along it's desig...                                                                                                                                                                                                                                                                                                                                                                                                                                                             "
      ]
     },
     "execution_count": 5,
     "metadata": {},
     "output_type": "execute_result"
    }
   ],
   "source": [
    "df.head()"
   ]
  },
  {
   "cell_type": "code",
   "execution_count": 6,
   "metadata": {},
   "outputs": [],
   "source": [
    "data_lm = (TextList.from_csv(path, 'alllessons3.csv')\n",
    "                .split_by_rand_pct(0.2)\n",
    "                .label_for_lm()\n",
    "                .databunch(bs=64))\n",
    "data_lm.save('data_save.pkl')"
   ]
  },
  {
   "cell_type": "code",
   "execution_count": 7,
   "metadata": {},
   "outputs": [],
   "source": [
    "learn = language_model_learner(data_lm,AWD_LSTM,\n",
    "                              path=path,\n",
    "                              callback_fns=[partial(SaveModelCallback,every='epoch',name='jhlmwd'),\n",
    "                                           ShowGraph]).to_fp16()"
   ]
  },
  {
   "cell_type": "code",
   "execution_count": 11,
   "metadata": {},
   "outputs": [],
   "source": [
    "learn.unfreeze()"
   ]
  },
  {
   "cell_type": "code",
   "execution_count": 12,
   "metadata": {
    "scrolled": true
   },
   "outputs": [
    {
     "data": {
      "text/html": [
       "\n",
       "    <div>\n",
       "        <style>\n",
       "            /* Turns off some styling */\n",
       "            progress {\n",
       "                /* gets rid of default border in Firefox and Opera. */\n",
       "                border: none;\n",
       "                /* Needs to be in here for Safari polyfill so background images work as expected. */\n",
       "                background-size: auto;\n",
       "            }\n",
       "            .progress-bar-interrupted, .progress-bar-interrupted::-webkit-progress-bar {\n",
       "                background: #F44336;\n",
       "            }\n",
       "        </style>\n",
       "      <progress value='3' class='' max='10', style='width:300px; height:20px; vertical-align: middle;'></progress>\n",
       "      30.00% [3/10 03:24<07:57]\n",
       "    </div>\n",
       "    \n",
       "<table border=\"1\" class=\"dataframe\">\n",
       "  <thead>\n",
       "    <tr style=\"text-align: left;\">\n",
       "      <th>epoch</th>\n",
       "      <th>train_loss</th>\n",
       "      <th>valid_loss</th>\n",
       "      <th>accuracy</th>\n",
       "      <th>time</th>\n",
       "    </tr>\n",
       "  </thead>\n",
       "  <tbody>\n",
       "    <tr>\n",
       "      <td>0</td>\n",
       "      <td>4.257872</td>\n",
       "      <td>3.248863</td>\n",
       "      <td>0.356605</td>\n",
       "      <td>00:52</td>\n",
       "    </tr>\n",
       "    <tr>\n",
       "      <td>1</td>\n",
       "      <td>2.158201</td>\n",
       "      <td>0.757777</td>\n",
       "      <td>0.832337</td>\n",
       "      <td>00:53</td>\n",
       "    </tr>\n",
       "    <tr>\n",
       "      <td>2</td>\n",
       "      <td>0.830175</td>\n",
       "      <td>0.150681</td>\n",
       "      <td>0.973815</td>\n",
       "      <td>01:35</td>\n",
       "    </tr>\n",
       "  </tbody>\n",
       "</table><p>\n",
       "\n",
       "    <div>\n",
       "        <style>\n",
       "            /* Turns off some styling */\n",
       "            progress {\n",
       "                /* gets rid of default border in Firefox and Opera. */\n",
       "                border: none;\n",
       "                /* Needs to be in here for Safari polyfill so background images work as expected. */\n",
       "                background-size: auto;\n",
       "            }\n",
       "            .progress-bar-interrupted, .progress-bar-interrupted::-webkit-progress-bar {\n",
       "                background: #F44336;\n",
       "            }\n",
       "        </style>\n",
       "      <progress value='0' class='progress-bar-interrupted' max='154', style='width:300px; height:20px; vertical-align: middle;'></progress>\n",
       "      Interrupted\n",
       "    </div>\n",
       "    "
      ],
      "text/plain": [
       "<IPython.core.display.HTML object>"
      ]
     },
     "metadata": {},
     "output_type": "display_data"
    },
    {
     "data": {
      "image/png": "[encoded data removed]",
      "text/plain": [
       "<Figure size 432x288 with 1 Axes>"
      ]
     },
     "metadata": {},
     "output_type": "display_data"
    },
    {
     "ename": "KeyboardInterrupt",
     "evalue": "",
     "output_type": "error",
     "traceback": [
      "\u001b[1;31m---------------------------------------------------------------------------\u001b[0m",
      "\u001b[1;31mKeyboardInterrupt\u001b[0m                         Traceback (most recent call last)",
      "\u001b[1;32m<ipython-input-12-7cf926f73f26>\u001b[0m in \u001b[0;36m<module>\u001b[1;34m\u001b[0m\n\u001b[1;32m----> 1\u001b[1;33m \u001b[0mlearn\u001b[0m\u001b[1;33m.\u001b[0m\u001b[0mfit_one_cycle\u001b[0m\u001b[1;33m(\u001b[0m\u001b[1;36m10\u001b[0m\u001b[1;33m,\u001b[0m\u001b[1;36m1e-2\u001b[0m\u001b[1;33m,\u001b[0m\u001b[0mmoms\u001b[0m\u001b[1;33m=\u001b[0m\u001b[1;33m(\u001b[0m\u001b[1;36m.8\u001b[0m\u001b[1;33m,\u001b[0m\u001b[1;36m.7\u001b[0m\u001b[1;33m)\u001b[0m\u001b[1;33m)\u001b[0m\u001b[1;33m\u001b[0m\u001b[1;33m\u001b[0m\u001b[0m\n\u001b[0m",
      "\u001b[1;32mc:\\users\\jpatn\\fastai\\fastai\\train.py\u001b[0m in \u001b[0;36mfit_one_cycle\u001b[1;34m(learn, cyc_len, max_lr, moms, div_factor, pct_start, final_div, wd, callbacks, tot_epochs, start_epoch)\u001b[0m\n\u001b[0;32m     20\u001b[0m     callbacks.append(OneCycleScheduler(learn, max_lr, moms=moms, div_factor=div_factor, pct_start=pct_start,\n\u001b[0;32m     21\u001b[0m                                        final_div=final_div, tot_epochs=tot_epochs, start_epoch=start_epoch))\n\u001b[1;32m---> 22\u001b[1;33m     \u001b[0mlearn\u001b[0m\u001b[1;33m.\u001b[0m\u001b[0mfit\u001b[0m\u001b[1;33m(\u001b[0m\u001b[0mcyc_len\u001b[0m\u001b[1;33m,\u001b[0m \u001b[0mmax_lr\u001b[0m\u001b[1;33m,\u001b[0m \u001b[0mwd\u001b[0m\u001b[1;33m=\u001b[0m\u001b[0mwd\u001b[0m\u001b[1;33m,\u001b[0m \u001b[0mcallbacks\u001b[0m\u001b[1;33m=\u001b[0m\u001b[0mcallbacks\u001b[0m\u001b[1;33m)\u001b[0m\u001b[1;33m\u001b[0m\u001b[1;33m\u001b[0m\u001b[0m\n\u001b[0m\u001b[0;32m     23\u001b[0m \u001b[1;33m\u001b[0m\u001b[0m\n\u001b[0;32m     24\u001b[0m \u001b[1;32mdef\u001b[0m \u001b[0mlr_find\u001b[0m\u001b[1;33m(\u001b[0m\u001b[0mlearn\u001b[0m\u001b[1;33m:\u001b[0m\u001b[0mLearner\u001b[0m\u001b[1;33m,\u001b[0m \u001b[0mstart_lr\u001b[0m\u001b[1;33m:\u001b[0m\u001b[0mFloats\u001b[0m\u001b[1;33m=\u001b[0m\u001b[1;36m1e-7\u001b[0m\u001b[1;33m,\u001b[0m \u001b[0mend_lr\u001b[0m\u001b[1;33m:\u001b[0m\u001b[0mFloats\u001b[0m\u001b[1;33m=\u001b[0m\u001b[1;36m10\u001b[0m\u001b[1;33m,\u001b[0m \u001b[0mnum_it\u001b[0m\u001b[1;33m:\u001b[0m\u001b[0mint\u001b[0m\u001b[1;33m=\u001b[0m\u001b[1;36m100\u001b[0m\u001b[1;33m,\u001b[0m \u001b[0mstop_div\u001b[0m\u001b[1;33m:\u001b[0m\u001b[0mbool\u001b[0m\u001b[1;33m=\u001b[0m\u001b[1;32mTrue\u001b[0m\u001b[1;33m,\u001b[0m \u001b[0mwd\u001b[0m\u001b[1;33m:\u001b[0m\u001b[0mfloat\u001b[0m\u001b[1;33m=\u001b[0m\u001b[1;32mNone\u001b[0m\u001b[1;33m)\u001b[0m\u001b[1;33m:\u001b[0m\u001b[1;33m\u001b[0m\u001b[1;33m\u001b[0m\u001b[0m\n",
      "\u001b[1;32mc:\\users\\jpatn\\fastai\\fastai\\basic_train.py\u001b[0m in \u001b[0;36mfit\u001b[1;34m(self, epochs, lr, wd, callbacks)\u001b[0m\n\u001b[0;32m    197\u001b[0m         \u001b[0mcallbacks\u001b[0m \u001b[1;33m=\u001b[0m \u001b[1;33m[\u001b[0m\u001b[0mcb\u001b[0m\u001b[1;33m(\u001b[0m\u001b[0mself\u001b[0m\u001b[1;33m)\u001b[0m \u001b[1;32mfor\u001b[0m \u001b[0mcb\u001b[0m \u001b[1;32min\u001b[0m \u001b[0mself\u001b[0m\u001b[1;33m.\u001b[0m\u001b[0mcallback_fns\u001b[0m \u001b[1;33m+\u001b[0m \u001b[0mlistify\u001b[0m\u001b[1;33m(\u001b[0m\u001b[0mdefaults\u001b[0m\u001b[1;33m.\u001b[0m\u001b[0mextra_callback_fns\u001b[0m\u001b[1;33m)\u001b[0m\u001b[1;33m]\u001b[0m \u001b[1;33m+\u001b[0m \u001b[0mlistify\u001b[0m\u001b[1;33m(\u001b[0m\u001b[0mcallbacks\u001b[0m\u001b[1;33m)\u001b[0m\u001b[1;33m\u001b[0m\u001b[1;33m\u001b[0m\u001b[0m\n\u001b[0;32m    198\u001b[0m         \u001b[1;32mif\u001b[0m \u001b[0mdefaults\u001b[0m\u001b[1;33m.\u001b[0m\u001b[0mextra_callbacks\u001b[0m \u001b[1;32mis\u001b[0m \u001b[1;32mnot\u001b[0m \u001b[1;32mNone\u001b[0m\u001b[1;33m:\u001b[0m \u001b[0mcallbacks\u001b[0m \u001b[1;33m+=\u001b[0m \u001b[0mdefaults\u001b[0m\u001b[1;33m.\u001b[0m\u001b[0mextra_callbacks\u001b[0m\u001b[1;33m\u001b[0m\u001b[1;33m\u001b[0m\u001b[0m\n\u001b[1;32m--> 199\u001b[1;33m         \u001b[0mfit\u001b[0m\u001b[1;33m(\u001b[0m\u001b[0mepochs\u001b[0m\u001b[1;33m,\u001b[0m \u001b[0mself\u001b[0m\u001b[1;33m,\u001b[0m \u001b[0mmetrics\u001b[0m\u001b[1;33m=\u001b[0m\u001b[0mself\u001b[0m\u001b[1;33m.\u001b[0m\u001b[0mmetrics\u001b[0m\u001b[1;33m,\u001b[0m \u001b[0mcallbacks\u001b[0m\u001b[1;33m=\u001b[0m\u001b[0mself\u001b[0m\u001b[1;33m.\u001b[0m\u001b[0mcallbacks\u001b[0m\u001b[1;33m+\u001b[0m\u001b[0mcallbacks\u001b[0m\u001b[1;33m)\u001b[0m\u001b[1;33m\u001b[0m\u001b[1;33m\u001b[0m\u001b[0m\n\u001b[0m\u001b[0;32m    200\u001b[0m \u001b[1;33m\u001b[0m\u001b[0m\n\u001b[0;32m    201\u001b[0m     \u001b[1;32mdef\u001b[0m \u001b[0mcreate_opt\u001b[0m\u001b[1;33m(\u001b[0m\u001b[0mself\u001b[0m\u001b[1;33m,\u001b[0m \u001b[0mlr\u001b[0m\u001b[1;33m:\u001b[0m\u001b[0mFloats\u001b[0m\u001b[1;33m,\u001b[0m \u001b[0mwd\u001b[0m\u001b[1;33m:\u001b[0m\u001b[0mFloats\u001b[0m\u001b[1;33m=\u001b[0m\u001b[1;36m0.\u001b[0m\u001b[1;33m)\u001b[0m\u001b[1;33m->\u001b[0m\u001b[1;32mNone\u001b[0m\u001b[1;33m:\u001b[0m\u001b[1;33m\u001b[0m\u001b[1;33m\u001b[0m\u001b[0m\n",
      "\u001b[1;32mc:\\users\\jpatn\\fastai\\fastai\\basic_train.py\u001b[0m in \u001b[0;36mfit\u001b[1;34m(epochs, learn, callbacks, metrics)\u001b[0m\n\u001b[0;32m     99\u001b[0m             \u001b[1;32mfor\u001b[0m \u001b[0mxb\u001b[0m\u001b[1;33m,\u001b[0m\u001b[0myb\u001b[0m \u001b[1;32min\u001b[0m \u001b[0mprogress_bar\u001b[0m\u001b[1;33m(\u001b[0m\u001b[0mlearn\u001b[0m\u001b[1;33m.\u001b[0m\u001b[0mdata\u001b[0m\u001b[1;33m.\u001b[0m\u001b[0mtrain_dl\u001b[0m\u001b[1;33m,\u001b[0m \u001b[0mparent\u001b[0m\u001b[1;33m=\u001b[0m\u001b[0mpbar\u001b[0m\u001b[1;33m)\u001b[0m\u001b[1;33m:\u001b[0m\u001b[1;33m\u001b[0m\u001b[1;33m\u001b[0m\u001b[0m\n\u001b[0;32m    100\u001b[0m                 \u001b[0mxb\u001b[0m\u001b[1;33m,\u001b[0m \u001b[0myb\u001b[0m \u001b[1;33m=\u001b[0m \u001b[0mcb_handler\u001b[0m\u001b[1;33m.\u001b[0m\u001b[0mon_batch_begin\u001b[0m\u001b[1;33m(\u001b[0m\u001b[0mxb\u001b[0m\u001b[1;33m,\u001b[0m \u001b[0myb\u001b[0m\u001b[1;33m)\u001b[0m\u001b[1;33m\u001b[0m\u001b[1;33m\u001b[0m\u001b[0m\n\u001b[1;32m--> 101\u001b[1;33m                 \u001b[0mloss\u001b[0m \u001b[1;33m=\u001b[0m \u001b[0mloss_batch\u001b[0m\u001b[1;33m(\u001b[0m\u001b[0mlearn\u001b[0m\u001b[1;33m.\u001b[0m\u001b[0mmodel\u001b[0m\u001b[1;33m,\u001b[0m \u001b[0mxb\u001b[0m\u001b[1;33m,\u001b[0m \u001b[0myb\u001b[0m\u001b[1;33m,\u001b[0m \u001b[0mlearn\u001b[0m\u001b[1;33m.\u001b[0m\u001b[0mloss_func\u001b[0m\u001b[1;33m,\u001b[0m \u001b[0mlearn\u001b[0m\u001b[1;33m.\u001b[0m\u001b[0mopt\u001b[0m\u001b[1;33m,\u001b[0m \u001b[0mcb_handler\u001b[0m\u001b[1;33m)\u001b[0m\u001b[1;33m\u001b[0m\u001b[1;33m\u001b[0m\u001b[0m\n\u001b[0m\u001b[0;32m    102\u001b[0m                 \u001b[1;32mif\u001b[0m \u001b[0mcb_handler\u001b[0m\u001b[1;33m.\u001b[0m\u001b[0mon_batch_end\u001b[0m\u001b[1;33m(\u001b[0m\u001b[0mloss\u001b[0m\u001b[1;33m)\u001b[0m\u001b[1;33m:\u001b[0m \u001b[1;32mbreak\u001b[0m\u001b[1;33m\u001b[0m\u001b[1;33m\u001b[0m\u001b[0m\n\u001b[0;32m    103\u001b[0m \u001b[1;33m\u001b[0m\u001b[0m\n",
      "\u001b[1;32mc:\\users\\jpatn\\fastai\\fastai\\basic_train.py\u001b[0m in \u001b[0;36mloss_batch\u001b[1;34m(model, xb, yb, loss_func, opt, cb_handler)\u001b[0m\n\u001b[0;32m     31\u001b[0m \u001b[1;33m\u001b[0m\u001b[0m\n\u001b[0;32m     32\u001b[0m     \u001b[1;32mif\u001b[0m \u001b[0mopt\u001b[0m \u001b[1;32mis\u001b[0m \u001b[1;32mnot\u001b[0m \u001b[1;32mNone\u001b[0m\u001b[1;33m:\u001b[0m\u001b[1;33m\u001b[0m\u001b[1;33m\u001b[0m\u001b[0m\n\u001b[1;32m---> 33\u001b[1;33m         \u001b[0mloss\u001b[0m\u001b[1;33m,\u001b[0m\u001b[0mskip_bwd\u001b[0m \u001b[1;33m=\u001b[0m \u001b[0mcb_handler\u001b[0m\u001b[1;33m.\u001b[0m\u001b[0mon_backward_begin\u001b[0m\u001b[1;33m(\u001b[0m\u001b[0mloss\u001b[0m\u001b[1;33m)\u001b[0m\u001b[1;33m\u001b[0m\u001b[1;33m\u001b[0m\u001b[0m\n\u001b[0m\u001b[0;32m     34\u001b[0m         \u001b[1;32mif\u001b[0m \u001b[1;32mnot\u001b[0m \u001b[0mskip_bwd\u001b[0m\u001b[1;33m:\u001b[0m                     \u001b[0mloss\u001b[0m\u001b[1;33m.\u001b[0m\u001b[0mbackward\u001b[0m\u001b[1;33m(\u001b[0m\u001b[1;33m)\u001b[0m\u001b[1;33m\u001b[0m\u001b[1;33m\u001b[0m\u001b[0m\n\u001b[0;32m     35\u001b[0m         \u001b[1;32mif\u001b[0m \u001b[1;32mnot\u001b[0m \u001b[0mcb_handler\u001b[0m\u001b[1;33m.\u001b[0m\u001b[0mon_backward_end\u001b[0m\u001b[1;33m(\u001b[0m\u001b[1;33m)\u001b[0m\u001b[1;33m:\u001b[0m \u001b[0mopt\u001b[0m\u001b[1;33m.\u001b[0m\u001b[0mstep\u001b[0m\u001b[1;33m(\u001b[0m\u001b[1;33m)\u001b[0m\u001b[1;33m\u001b[0m\u001b[1;33m\u001b[0m\u001b[0m\n",
      "\u001b[1;32mc:\\users\\jpatn\\fastai\\fastai\\callback.py\u001b[0m in \u001b[0;36mon_backward_begin\u001b[1;34m(self, loss)\u001b[0m\n\u001b[0;32m    287\u001b[0m     \u001b[1;32mdef\u001b[0m \u001b[0mon_backward_begin\u001b[0m\u001b[1;33m(\u001b[0m\u001b[0mself\u001b[0m\u001b[1;33m,\u001b[0m \u001b[0mloss\u001b[0m\u001b[1;33m:\u001b[0m\u001b[0mTensor\u001b[0m\u001b[1;33m)\u001b[0m\u001b[1;33m->\u001b[0m\u001b[1;32mNone\u001b[0m\u001b[1;33m:\u001b[0m\u001b[1;33m\u001b[0m\u001b[1;33m\u001b[0m\u001b[0m\n\u001b[0;32m    288\u001b[0m         \u001b[1;34m\"Handle gradient calculation on `loss`.\"\u001b[0m\u001b[1;33m\u001b[0m\u001b[1;33m\u001b[0m\u001b[0m\n\u001b[1;32m--> 289\u001b[1;33m         \u001b[0mself\u001b[0m\u001b[1;33m.\u001b[0m\u001b[0msmoothener\u001b[0m\u001b[1;33m.\u001b[0m\u001b[0madd_value\u001b[0m\u001b[1;33m(\u001b[0m\u001b[0mloss\u001b[0m\u001b[1;33m.\u001b[0m\u001b[0mdetach\u001b[0m\u001b[1;33m(\u001b[0m\u001b[1;33m)\u001b[0m\u001b[1;33m.\u001b[0m\u001b[0mcpu\u001b[0m\u001b[1;33m(\u001b[0m\u001b[1;33m)\u001b[0m\u001b[1;33m)\u001b[0m\u001b[1;33m\u001b[0m\u001b[1;33m\u001b[0m\u001b[0m\n\u001b[0m\u001b[0;32m    290\u001b[0m         \u001b[0mself\u001b[0m\u001b[1;33m.\u001b[0m\u001b[0mstate_dict\u001b[0m\u001b[1;33m[\u001b[0m\u001b[1;34m'last_loss'\u001b[0m\u001b[1;33m]\u001b[0m\u001b[1;33m,\u001b[0m \u001b[0mself\u001b[0m\u001b[1;33m.\u001b[0m\u001b[0mstate_dict\u001b[0m\u001b[1;33m[\u001b[0m\u001b[1;34m'smooth_loss'\u001b[0m\u001b[1;33m]\u001b[0m \u001b[1;33m=\u001b[0m \u001b[0mloss\u001b[0m\u001b[1;33m,\u001b[0m \u001b[0mself\u001b[0m\u001b[1;33m.\u001b[0m\u001b[0msmoothener\u001b[0m\u001b[1;33m.\u001b[0m\u001b[0msmooth\u001b[0m\u001b[1;33m\u001b[0m\u001b[1;33m\u001b[0m\u001b[0m\n\u001b[0;32m    291\u001b[0m         \u001b[0mself\u001b[0m\u001b[1;33m(\u001b[0m\u001b[1;34m'backward_begin'\u001b[0m\u001b[1;33m,\u001b[0m \u001b[0mcall_mets\u001b[0m\u001b[1;33m=\u001b[0m\u001b[1;32mFalse\u001b[0m\u001b[1;33m)\u001b[0m\u001b[1;33m\u001b[0m\u001b[1;33m\u001b[0m\u001b[0m\n",
      "\u001b[1;31mKeyboardInterrupt\u001b[0m: "
     ]
    },
    {
     "data": {
      "image/png": "[encoded data removed]",
      "text/plain": [
       "<Figure size 432x288 with 1 Axes>"
      ]
     },
     "metadata": {
      "needs_background": "light"
     },
     "output_type": "display_data"
    }
   ],
   "source": [
    "learn.fit_one_cycle(10,1e-2,moms=(.8,.7))"
   ]
  },
  {
   "cell_type": "code",
   "execution_count": 9,
   "metadata": {},
   "outputs": [],
   "source": [
    "learn = language_model_learner(data_lm,AWD_LSTM,\n",
    "                              path=path,\n",
    "                              callback_fns=[partial(SaveModelCallback,every='epoch',name='jhlmwd'),\n",
    "                                           ShowGraph])"
   ]
  },
  {
   "cell_type": "code",
   "execution_count": 10,
   "metadata": {},
   "outputs": [],
   "source": [
    "learn.load((path/'models/jhlmwd_2'));"
   ]
  },
  {
   "cell_type": "code",
   "execution_count": 24,
   "metadata": {},
   "outputs": [],
   "source": [
    "learn.load((path/'models/jhlmwd_1'));"
   ]
  },
  {
   "cell_type": "code",
   "execution_count": 27,
   "metadata": {},
   "outputs": [],
   "source": [
    "learn.export('export_lm.pkl')"
   ]
  },
  {
   "cell_type": "code",
   "execution_count": 28,
   "metadata": {},
   "outputs": [],
   "source": [
    "learn = load_learner(path, 'export_lm.pkl')"
   ]
  },
  {
   "cell_type": "code",
   "execution_count": 11,
   "metadata": {},
   "outputs": [
    {
     "data": {
      "text/plain": [
       "\"i think than this is not code of a means sure this is n't kind some input done - segmented explain decide freeze this 1 new input so this is 1 new convolution 're the tab satellite this is 1 new convolution 're the tab satellite this is 1 new convolution 're\""
      ]
     },
     "execution_count": 11,
     "metadata": {},
     "output_type": "execute_result"
    }
   ],
   "source": [
    "learn.predict('i think',50,temperature=.5)"
   ]
  },
  {
   "cell_type": "code",
   "execution_count": 45,
   "metadata": {},
   "outputs": [
    {
     "data": {
      "text/plain": [
       "\"i think this will be a really good challenge to Jupiter notebook it 's an example of something other to be something i 'm going to do you can do this with a particular useful thing i 'm going to do if i 'm interested in doing some research and some\""
      ]
     },
     "execution_count": 45,
     "metadata": {},
     "output_type": "execute_result"
    }
   ],
   "source": [
    "learn.predict('i think',50,temperature=.5)"
   ]
  },
  {
   "cell_type": "markdown",
   "metadata": {
    "heading_collapsed": true
   },
   "source": [
    "# predict"
   ]
  },
  {
   "cell_type": "code",
   "execution_count": 22,
   "metadata": {
    "hidden": true
   },
   "outputs": [
    {
     "name": "stdout",
     "output_type": "stream",
     "text": [
      "1. xxbos \" from folder so let 's just put that somewhere temporary and then we 're gon na go t dot label from CSD and you can look at the documentation to see exactly what that does and that 's gon na call label from date of data frame so\n",
      "\n",
      "2. the time . That sounds like a pretty high number﹣the idea that you can actually guess the next word that often . So it 's a good sign that my language model is doing pretty well . For more limited domain documents ( like medical transcripts and legal\n",
      "\n",
      "3. this is our standard data block API that you 've seen a few times from a data frame passing all of that information split it into valid vs. train label it with a dependent variable and here 's something i do n't think you 've seen before label this is\n",
      "\n",
      "4. when you start with a new widget so if you 're using the old library please help me create a new data bunch with just the misclassified instances and go ahead and fit right and the misclassified ones \" xxbos \" this set of transforms and we 're going to transform\n",
      "\n",
      "5. i really can do this with what i 've learned it can also be intimidating to think like wow these people are doing amazing things but it 's important to realize that as a thousands of people during this course you know i 'm just picking out the kind of a few\n",
      "\n",
      "6. you can upload a batch of confidence and you 'll get a good sense of how it all works right but in the case of something like this m nest data set all the defaults pretty much work so this is all fine so here it is so you can check let\n",
      "\n",
      "7. if you 've got some predictions about whether it 's a deep learning model you 're trying to predict things there 's no point predicting things that are in the middle of your training set you want to predict things in the future another interesting thing about it is the evaluation\n",
      "\n",
      "8. i was a lot \\ \\ \\ 's the first few people but i can see things like what 's the next one is so my first weights see i 'm just going to pick out one of those 17 we 're not there yet it 's not a kind of whole\n",
      "\n",
      "9. what we 've done here is we 've actually got a matrix multiply that is creating this this matrix matrix so the first one is in position in does that make sense so xxbos \" the first few lines and there it is so we want to turn this into something\n"
     ]
    }
   ],
   "source": [
    "TEXTS = [\"xxbos\",\"the\",\"this\",\"when\",\"i really\", \"you can\",\"if\", \"i was\", \"what\"]\n",
    "N_WORDS = 50 \n",
    "print(\"\\n\\n\".join(str(i+1) + \". \" + learn.predict(TEXTS[i], N_WORDS,no_unk=True, temperature=.8) for i in range(len(TEXTS))))"
   ]
  },
  {
   "cell_type": "code",
   "execution_count": 26,
   "metadata": {
    "hidden": true
   },
   "outputs": [
    {
     "name": "stdout",
     "output_type": "stream",
     "text": [
      "1. xxbos \" a really good exercise in making sure you understand the material so the first one we 're going to look at is a data set of satellite images and satellite imaging is a really fertile area for deep learning it 's certainly a lot of people already using deep\n",
      "\n",
      "2. the same thing as plot top losses from last time where we saw this movie using the same kind of approach i described before but i \\ 'd say like oh we 've got a little bit of experimenting to get the result of the lots of different ways you can\n",
      "\n",
      "3. this is the init method in the tabular learner so this is the thing that actually image that 's going to take us into a topic called embeddings which is basically a key underlying platform behind these applications that will take us back into more computer vision using a pre trained\n",
      "\n",
      "4. when you start with a new project we 're going to try and find a new project that we 're going to do we 're going to try and create models that the world 's most popular web frameworks people have built during the week Edward Ross built the\n",
      "\n",
      "5. i really want to do it for you know Simon can go back and say like oh yeah i 've got a list of image files that are in a folder called valid and i want to load them in a folder called train and i want to split it into\n",
      "\n",
      "6. you can start to prepare your language model . So for all of this pre - training and all of this language model fine - tuning , we do n't need any labels at all . The text itself is labels so label for a language model ( label_for_lm )\n",
      "\n",
      "7. if you want to predict things in the future another interesting thing about it is if you 're interested in doing some research or some kind of planning or some kind of recurrent neural network but there 's no reason to use deep learning to do this but if you 're\n",
      "\n",
      "8. i was wrong and i 'm not saying like wow , i 'm not gon na bother telling me about the same thing as i 'm going to do it again and again and again and again because i 'm going to look at the same thing as i 'm going to\n",
      "\n",
      "9. what a waste of time for us as well because there 's a lot of time for us to use it for this purpose so it 's a good way to follow this so we 've got a three point four percent error rate after doing another couple of epochs so\n"
     ]
    }
   ],
   "source": [
    "TEXTS = [\"xxbos\",\"the\",\"this\",\"when\",\"i really\", \"you can\",\"if\", \"i was\", \"what\"]\n",
    "N_WORDS = 50 \n",
    "print(\"\\n\\n\".join(str(i+1) + \". \" + learn.predict(TEXTS[i], N_WORDS,no_unk=True, temperature=.5) for i in range(len(TEXTS))))"
   ]
  },
  {
   "cell_type": "code",
   "execution_count": 29,
   "metadata": {
    "hidden": true
   },
   "outputs": [
    {
     "data": {
      "text/plain": [
       "\"This is a simple test of creating something that 's sensible . This case you have a pretty good sense that it 's accurate .\""
      ]
     },
     "execution_count": 29,
     "metadata": {},
     "output_type": "execute_result"
    }
   ],
   "source": [
    "learn.predict('This is a simple test of', n_words=20)"
   ]
  },
  {
   "cell_type": "code",
   "execution_count": 30,
   "metadata": {
    "hidden": true
   },
   "outputs": [
    {
     "data": {
      "text/plain": [
       "\"google okay so this is my new data set this as well so i 've done that all right but that 's the basic idea is that you 've got a hundred and sixty - four pack together and there are layers that contain parameters and some parameters are subclasses change\""
      ]
     },
     "execution_count": 30,
     "metadata": {},
     "output_type": "execute_result"
    }
   ],
   "source": [
    "learn.predict('google',50,temperature=.8)"
   ]
  },
  {
   "cell_type": "code",
   "execution_count": 34,
   "metadata": {
    "hidden": true
   },
   "outputs": [
    {
     "data": {
      "text/plain": [
       "\"i really want to mention a much more useful treatment of jewish tradition in our house that has been revolutionary . Here 's a nice thing but Jason is just going to teach a theory - based theory there is something called a learner that will be a lot more\""
      ]
     },
     "execution_count": 34,
     "metadata": {},
     "output_type": "execute_result"
    }
   ],
   "source": [
    "learn.predict('i really',50,temperature=.8)"
   ]
  },
  {
   "cell_type": "code",
   "execution_count": 38,
   "metadata": {
    "hidden": true
   },
   "outputs": [
    {
     "data": {
      "text/plain": [
       "\"i really want to tell you about them about what kind of data sets do i want to use right it is what that means okay that lets us give us a data set that 's going to be a state of the art in this particular point mutation one as well\""
      ]
     },
     "execution_count": 38,
     "metadata": {},
     "output_type": "execute_result"
    }
   ],
   "source": [
    "learn.predict('i really',50,temperature=.5)"
   ]
  },
  {
   "cell_type": "code",
   "execution_count": 39,
   "metadata": {
    "hidden": true
   },
   "outputs": [
    {
     "data": {
      "text/plain": [
       "\"i really wanted to mention this this idea of dropout is a kind of a rule of thumb it says this is a nice thing to do with this is a nice way of dealing with simple stuff that would take a look at it and then it 'll get rid of\""
      ]
     },
     "execution_count": 39,
     "metadata": {},
     "output_type": "execute_result"
    }
   ],
   "source": [
    "learn.predict('i really',50,temperature=.5)"
   ]
  },
  {
   "cell_type": "code",
   "execution_count": 40,
   "metadata": {
    "hidden": true
   },
   "outputs": [
    {
     "name": "stdout",
     "output_type": "stream",
     "text": [
      "1. xxbos \" from folder so let 's just put that somewhere temporary and then we can fit it and then we fit fit some more and we 're ready to start the real lesson one so i 'm going to say let 's freeze let 's freeze all right so this\n",
      "\n",
      "2. the world it 's a bit newer than tensorflow so you know a lot of people use this underlying process called the pet classifier this is the trick that you can use to decrease the number of channels to 24 . So if you 're doing classification , you can\n",
      "\n",
      "3. this is the story that we 're going to cover in a moment so we 're going to try and create models that are actually going to be doing a big dive into convolutions later as well if you 're interested in thinking about this idea that this is a pretty\n",
      "\n",
      "4. when you first go into platformer AI and click on the AI namespace , it 's just something which when you create a data bunch or whatever so forth it 's just a data bunch which can look at a lot of people see it in this case there\n",
      "\n",
      "5. i really want to do a teddy bear detector for me so i do n't think that 's a teddy bear or a black bear or a brown bear right so that 's all really interesting so that 's all you know so all of these black bears and grizzly bears is\n",
      "\n",
      "6. you can create your own variations of function that 's exactly the same as this thing called the f score so i 'm going to replace with a vector where i 'm going to replace with a vector of 0 and then a 1 and then a 1 and then a 1\n",
      "\n",
      "7. if you 're interested in learning more about it and what is the next bit of the course or what 's your model or xxbos \" saying if i want to say freeze_to what are the names of my images so this is what i 've learned and so this is\n",
      "\n",
      "8. i was not really familiar with the idea of watching a lesson one so this one was kind of designed to be a good text generation system , but it 's it 's it 's much less intricate than vision and NLP but it 's actually the most basic kind of\n",
      "\n",
      "9. what we 've done here is we 're going to be learning more about what that means during the course and then we run the learning rate finder and we take a look now we 're going to be learning more about the adult adult data but in short it means\n"
     ]
    }
   ],
   "source": [
    "TEXTS = [\"xxbos\",\"the\",\"this\",\"when\",\"i really\", \"you can\",\"if\", \"i was\", \"what\"]\n",
    "N_WORDS = 50 \n",
    "print(\"\\n\\n\".join(str(i+1) + \". \" + learn.predict(TEXTS[i], N_WORDS,no_unk=True, temperature=.5) for i in range(len(TEXTS))))"
   ]
  },
  {
   "cell_type": "code",
   "execution_count": 41,
   "metadata": {
    "hidden": true
   },
   "outputs": [
    {
     "name": "stdout",
     "output_type": "stream",
     "text": [
      "1. xxbos \" way to validate the model if all we have is a training set then we have no way to know how we 're doing because we need a separate set of held out data a training set now we have a training set and a data bunch is something\n",
      "\n",
      "2. the world it 's a bit newer than tensorflow so you know a lot of people who work full time on fast AI when you see people say okay i 'm not gon na bother telling you about some of the details this is the kind of thing you can\n",
      "\n",
      "3. this is the standard documentation block API that you read about when we referred to this chart is coming from Chora last week we were correct it did come from Chora but actually we realized originally it came from Andrew earns excellent machine learning course on\n",
      "\n",
      "4. when you first start xxbos \" the top 10 % so the top five percent would be 0.93 one ish the top 10 % would be 0.93 0.93 ish ish more than that threshold i think that was a really cool sign \" xxbos \" the top 10 % so the\n",
      "\n",
      "5. i really want to do a teddy bear detector so i 'm going to do some different stuff and so i 've created that module that we 've got one point four percent error rate so that 's that 's a little bit harder to say okay this is kind of designed\n",
      "\n",
      "6. you can use the same kind of thing that i normally call to say okay this is the thing that actually image net that 's going to automatically turn this into a categorical variable which is basically the same as this this thing called a embedding so this is just like a\n",
      "\n",
      "7. if you want to play around with movies that are up to date okay the original movie lens data set the xxbos \" the top 10 % so the top five percent would be 0.93 one ish the top 10 % is going to be about nine to nine ish so\n",
      "\n",
      "8. i was going to do it again and again and again and again and again so i 'm going to start with the same kind of thing i 'm going to do i want to create a little more data frame this is the data block API that you 've seen\n",
      "\n",
      "9. what we 've done here is we 're going to be restricted to movies that are before 1998 so maybe you can see how the model trains changing your metrics will be a little bit harder to manage than we do if we use it when we use a learner because\n"
     ]
    }
   ],
   "source": [
    "TEXTS = [\"xxbos\",\"the\",\"this\",\"when\",\"i really\", \"you can\",\"if\", \"i was\", \"what\"]\n",
    "N_WORDS = 50 \n",
    "print(\"\\n\\n\".join(str(i+1) + \". \" + learn.predict(TEXTS[i], N_WORDS,no_unk=True, temperature=.4) for i in range(len(TEXTS))))"
   ]
  },
  {
   "cell_type": "code",
   "execution_count": 44,
   "metadata": {
    "hidden": true
   },
   "outputs": [
    {
     "data": {
      "text/plain": [
       "\"i think that 's a really good sign to start running deep learning and fast AI students but because it 's not a science academic data set is an interesting step it 's kind of the starting point in this journey it contains seven lessons each one 's about two hours\""
      ]
     },
     "execution_count": 44,
     "metadata": {},
     "output_type": "execute_result"
    }
   ],
   "source": [
    "learn.predict('i think',50,temperature=.5)"
   ]
  },
  {
   "cell_type": "code",
   "execution_count": 45,
   "metadata": {
    "hidden": true
   },
   "outputs": [
    {
     "data": {
      "text/plain": [
       "\"i think this will be a really good challenge to Jupiter notebook it 's an example of something other to be something i 'm going to do you can do this with a particular useful thing i 'm going to do if i 'm interested in doing some research and some\""
      ]
     },
     "execution_count": 45,
     "metadata": {},
     "output_type": "execute_result"
    }
   ],
   "source": [
    "learn.predict('i think',50,temperature=.5)"
   ]
  },
  {
   "cell_type": "markdown",
   "metadata": {
    "heading_collapsed": true,
    "hidden": true
   },
   "source": [
    "## best"
   ]
  },
  {
   "cell_type": "code",
   "execution_count": 47,
   "metadata": {
    "hidden": true
   },
   "outputs": [
    {
     "data": {
      "text/plain": [
       "\"i think this is a pretty interesting challenge to for deep learning that would take you a long way it really helps to build a deep learning model so i 'm going to say freeze_to which is what we do for the first half of my slice and then for the second\""
      ]
     },
     "execution_count": 47,
     "metadata": {},
     "output_type": "execute_result"
    }
   ],
   "source": [
    "learn.predict('i think',50,temperature=.6)"
   ]
  },
  {
   "cell_type": "code",
   "execution_count": 48,
   "metadata": {
    "hidden": true
   },
   "outputs": [
    {
     "data": {
      "text/plain": [
       "\"i think oh it 's a good time period that the first thing i 've learned was what was going on here i 'm not really excited about i 'm mentioning for a while that i 'm just picking out my data bunch and then i 'm going to run this cell\""
      ]
     },
     "execution_count": 48,
     "metadata": {},
     "output_type": "execute_result"
    }
   ],
   "source": [
    "learn.predict('i think',50,temperature=.6)"
   ]
  },
  {
   "cell_type": "code",
   "execution_count": 49,
   "metadata": {
    "hidden": true
   },
   "outputs": [
    {
     "data": {
      "text/plain": [
       "\"i think this is a pretty interesting challenge to Deep Residual Learning for coders which is that we 're going to be making sure that we do n't have to be in a certain order . In this case , we 've assumed that we 're doing computation\""
      ]
     },
     "execution_count": 49,
     "metadata": {},
     "output_type": "execute_result"
    }
   ],
   "source": [
    "learn.predict('i think',50,temperature=.6)"
   ]
  },
  {
   "cell_type": "code",
   "execution_count": 50,
   "metadata": {
    "hidden": true
   },
   "outputs": [
    {
     "data": {
      "text/plain": [
       "\"i think this is really interesting this is like you can kind of say like oh i 'm going to try and find a goodly bunch of them but this is not a float it 's an n64 if this was a float then first day i would automatically know or guess\""
      ]
     },
     "execution_count": 50,
     "metadata": {},
     "output_type": "execute_result"
    }
   ],
   "source": [
    "learn.predict('i think',50,temperature=.6)"
   ]
  },
  {
   "cell_type": "code",
   "execution_count": 51,
   "metadata": {
    "hidden": true
   },
   "outputs": [
    {
     "data": {
      "text/plain": [
       "'i think this is a pretty good example \" The first thing we need to do is to get to a point where we go okay and so we have to train the first few layers and then we fit a little bit more right now in this case i \\'m'"
      ]
     },
     "execution_count": 51,
     "metadata": {},
     "output_type": "execute_result"
    }
   ],
   "source": [
    "learn.predict('i think',50,temperature=.6)"
   ]
  },
  {
   "cell_type": "code",
   "execution_count": 54,
   "metadata": {
    "hidden": true
   },
   "outputs": [
    {
     "data": {
      "text/plain": [
       "'i think this is really interesting in fact Simon is one of these very annoying people like Christine Payne who talked about last week who seems to be good at everything he does xxbos \" this picture so an example of a computer vision approach where we actually do'"
      ]
     },
     "execution_count": 54,
     "metadata": {},
     "output_type": "execute_result"
    }
   ],
   "source": [
    "learn.predict('i think',50,temperature=.65)"
   ]
  },
  {
   "cell_type": "code",
   "execution_count": 55,
   "metadata": {
    "hidden": true
   },
   "outputs": [
    {
     "data": {
      "text/plain": [
       "\"i think this will be a pretty good example of something like this one and this one called the encoder which will all you have to make sure it does n't have a separate validation set otherwise we 've just got a folder called train and a folder called valid and a\""
      ]
     },
     "execution_count": 55,
     "metadata": {},
     "output_type": "execute_result"
    }
   ],
   "source": [
    "learn.predict('i think',50,temperature=.65)"
   ]
  },
  {
   "cell_type": "markdown",
   "metadata": {},
   "source": [
    "# end"
   ]
  },
  {
   "cell_type": "code",
   "execution_count": null,
   "metadata": {},
   "outputs": [],
   "source": []
  }
 ],
 "metadata": {
  "hide_input": false,
  "kernelspec": {
   "display_name": "Python 3",
   "language": "python",
   "name": "python3"
  },
  "language_info": {
   "codemirror_mode": {
    "name": "ipython",
    "version": 3
   },
   "file_extension": ".py",
   "mimetype": "text/x-python",
   "name": "python",
   "nbconvert_exporter": "python",
   "pygments_lexer": "ipython3",
   "version": "3.7.3"
  },
  "toc": {
   "base_numbering": 1,
   "nav_menu": {},
   "number_sections": true,
   "sideBar": true,
   "skip_h1_title": false,
   "title_cell": "Table of Contents",
   "title_sidebar": "Contents",
   "toc_cell": false,
   "toc_position": {},
   "toc_section_display": true,
   "toc_window_display": false
  },
  "varInspector": {
   "cols": {
    "lenName": 16,
    "lenType": 16,
    "lenVar": 40
   },
   "kernels_config": {
    "python": {
     "delete_cmd_postfix": "",
     "delete_cmd_prefix": "del ",
     "library": "var_list.py",
     "varRefreshCmd": "print(var_dic_list())"
    },
    "r": {
     "delete_cmd_postfix": ") ",
     "delete_cmd_prefix": "rm(",
     "library": "var_list.r",
     "varRefreshCmd": "cat(var_dic_list()) "
    }
   },
   "types_to_exclude": [
    "module",
    "function",
    "builtin_function_or_method",
    "instance",
    "_Feature"
   ],
   "window_display": false
  }
 },
 "nbformat": 4,
 "nbformat_minor": 2
}
