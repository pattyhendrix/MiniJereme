{
 "cells": [
  {
   "cell_type": "markdown",
   "metadata": {},
   "source": [
    "# Imports"
   ]
  },
  {
   "cell_type": "code",
   "execution_count": 1,
   "metadata": {},
   "outputs": [
    {
     "data": {
      "text/plain": [
       "'/home/hendrix/projects/LanguageModel'"
      ]
     },
     "execution_count": 1,
     "metadata": {},
     "output_type": "execute_result"
    }
   ],
   "source": [
    "%reload_ext autoreload\n",
    "%autoreload 2\n",
    "%matplotlib inline\n",
    "%pwd"
   ]
  },
  {
   "cell_type": "code",
   "execution_count": 2,
   "metadata": {},
   "outputs": [],
   "source": [
    "from fastai import *\n",
    "from fastai.text import *\n",
    "from fastai.callbacks import *"
   ]
  },
  {
   "cell_type": "code",
   "execution_count": 3,
   "metadata": {},
   "outputs": [],
   "source": [
    "get_ipython().config.get('IPKernelApp', {})['parent_appname'] = \"\""
   ]
  },
  {
   "cell_type": "code",
   "execution_count": 4,
   "metadata": {},
   "outputs": [],
   "source": [
    "path = Path('/home/hendrix/data/jhlm/')\n",
    "df = pd.read_csv(path/'alllessons.csv')"
   ]
  },
  {
   "cell_type": "markdown",
   "metadata": {},
   "source": [
    "# Data"
   ]
  },
  {
   "cell_type": "code",
   "execution_count": 5,
   "metadata": {},
   "outputs": [
    {
     "data": {
      "text/html": [
       "<div>\n",
       "<style scoped>\n",
       "    .dataframe tbody tr th:only-of-type {\n",
       "        vertical-align: middle;\n",
       "    }\n",
       "\n",
       "    .dataframe tbody tr th {\n",
       "        vertical-align: top;\n",
       "    }\n",
       "\n",
       "    .dataframe thead th {\n",
       "        text-align: right;\n",
       "    }\n",
       "</style>\n",
       "<table border=\"1\" class=\"dataframe\">\n",
       "  <thead>\n",
       "    <tr style=\"text-align: right;\">\n",
       "      <th></th>\n",
       "      <th>text</th>\n",
       "    </tr>\n",
       "  </thead>\n",
       "  <tbody>\n",
       "    <tr>\n",
       "      <th>0</th>\n",
       "      <td>okay so welcome practical deep learning for co...</td>\n",
       "    </tr>\n",
       "    <tr>\n",
       "      <th>1</th>\n",
       "      <td>at the top that's right with zero zero here as...</td>\n",
       "    </tr>\n",
       "    <tr>\n",
       "      <th>2</th>\n",
       "      <td>Python before so nearly all of you that's grea...</td>\n",
       "    </tr>\n",
       "    <tr>\n",
       "      <th>3</th>\n",
       "      <td>really for the book audience not for you that'...</td>\n",
       "    </tr>\n",
       "    <tr>\n",
       "      <th>4</th>\n",
       "      <td>interactive experiments and it lets us give yo...</td>\n",
       "    </tr>\n",
       "  </tbody>\n",
       "</table>\n",
       "</div>"
      ],
      "text/plain": [
       "                                                text\n",
       "0  okay so welcome practical deep learning for co...\n",
       "1  at the top that's right with zero zero here as...\n",
       "2  Python before so nearly all of you that's grea...\n",
       "3  really for the book audience not for you that'...\n",
       "4  interactive experiments and it lets us give yo..."
      ]
     },
     "execution_count": 5,
     "metadata": {},
     "output_type": "execute_result"
    }
   ],
   "source": [
    "df.head()"
   ]
  },
  {
   "cell_type": "code",
   "execution_count": 6,
   "metadata": {},
   "outputs": [
    {
     "data": {
      "text/plain": [
       "\"at the top that's right with zero zero here as this grows you'll see more and more files but will keep a notebook tutorial at the top and you will have used your jupiter notebook to add one and one together getting the expected result bigger and hopefully you've learned these four keyboard shortcuts so the basic idea is that your jupiter notebook has pros in it it can have pictures you know it can have charts in it and most importantly it can have code in it okay so the code is in python how many people have used\""
      ]
     },
     "execution_count": 6,
     "metadata": {},
     "output_type": "execute_result"
    }
   ],
   "source": [
    "df['text'][1]"
   ]
  },
  {
   "cell_type": "code",
   "execution_count": 9,
   "metadata": {},
   "outputs": [],
   "source": [
    "data_lm = (TextList.from_csv(path, 'alllessons.csv', cols='text')\n",
    "                .split_by_rand_pct(0.2)\n",
    "                .label_for_lm()\n",
    "                .databunch(bs=12))\n",
    "data_lm.save('data_lm.pkl')"
   ]
  },
  {
   "cell_type": "code",
   "execution_count": 10,
   "metadata": {},
   "outputs": [
    {
     "data": {
      "text/html": [
       "<table border=\"1\" class=\"dataframe\">\n",
       "  <thead>\n",
       "    <tr style=\"text-align: right;\">\n",
       "      <th>idx</th>\n",
       "      <th>text</th>\n",
       "    </tr>\n",
       "  </thead>\n",
       "  <tbody>\n",
       "    <tr>\n",
       "      <td>0</td>\n",
       "      <td>notebook and and then you 're ready to start the real lesson one so if you 're ready you will be able to see something like this and in particular hopefully you have gone to notebook xxunk it 's xxbos xxmaj python before so nearly all of you that 's great um if you have n't used xxmaj python that 's totally okay okay it 's a pretty easy</td>\n",
       "    </tr>\n",
       "    <tr>\n",
       "      <td>1</td>\n",
       "      <td>extract the labels from the names okay so we 're going to use from name re so for those of you that use xxmaj python you know re is xxbos the module in xxmaj python that does regular xxunk things that 's really useful for xxunk text i just went ahead and created the regular expression that would extract the label from this text okay so those of you</td>\n",
       "    </tr>\n",
       "    <tr>\n",
       "      <td>2</td>\n",
       "      <td>it in start running it approach rather than here 's lots of theory approach xxunk and surprising and odd at first and so for those of those of you i just wanted to remind you you know this basic xxunk which is keep going now you 're not expected to remember everything yes you 're not expected to understand everything yet you 're not expected to know why everything</td>\n",
       "    </tr>\n",
       "    <tr>\n",
       "      <td>3</td>\n",
       "      <td>a super simple little xxunk thing so yeah it should be a good \" xxbos \" way to get a sense of how to build a web app which xxunk to a xxup pi torch model so examples of web apps people have built during the week xxmaj edward xxmaj xxunk built the what car is that xxmaj xxunk more specifically the what xxmaj xxunk car is that is</td>\n",
       "    </tr>\n",
       "    <tr>\n",
       "      <td>4</td>\n",
       "      <td>turns them into xxunk watch data sets this is the \" xxbos \" thing that transforms them okay and then this is actually going to create the the data loader and the data bunch in one in one go so let 's look at some examples of this data block xxup api because once you understand the data block xxup api you 'll never be xxunk for how to</td>\n",
       "    </tr>\n",
       "  </tbody>\n",
       "</table>"
      ],
      "text/plain": [
       "<IPython.core.display.HTML object>"
      ]
     },
     "metadata": {},
     "output_type": "display_data"
    }
   ],
   "source": [
    "data_lm.show_batch()"
   ]
  },
  {
   "cell_type": "markdown",
   "metadata": {},
   "source": [
    "# Training"
   ]
  },
  {
   "cell_type": "markdown",
   "metadata": {},
   "source": [
    "## Train 1"
   ]
  },
  {
   "cell_type": "code",
   "execution_count": 44,
   "metadata": {},
   "outputs": [],
   "source": [
    "learn = language_model_learner(data_lm,AWD_LSTM,\n",
    "                              path=path,\n",
    "                              callback_fns=[partial(SaveModelCallback,every='epoch',name='1'),\n",
    "                                           ShowGraph])"
   ]
  },
  {
   "cell_type": "code",
   "execution_count": 45,
   "metadata": {
    "scrolled": false
   },
   "outputs": [
    {
     "data": {
      "text/html": [
       "Total time: 00:09 <p><table border=\"1\" class=\"dataframe\">\n",
       "  <thead>\n",
       "    <tr style=\"text-align: left;\">\n",
       "      <th>epoch</th>\n",
       "      <th>train_loss</th>\n",
       "      <th>valid_loss</th>\n",
       "      <th>accuracy</th>\n",
       "      <th>time</th>\n",
       "    </tr>\n",
       "  </thead>\n",
       "  <tbody>\n",
       "    <tr>\n",
       "      <td>0</td>\n",
       "      <td>5.130365</td>\n",
       "      <td>4.386659</td>\n",
       "      <td>0.196886</td>\n",
       "      <td>00:02</td>\n",
       "    </tr>\n",
       "    <tr>\n",
       "      <td>1</td>\n",
       "      <td>4.669138</td>\n",
       "      <td>4.078993</td>\n",
       "      <td>0.213370</td>\n",
       "      <td>00:02</td>\n",
       "    </tr>\n",
       "    <tr>\n",
       "      <td>2</td>\n",
       "      <td>4.390805</td>\n",
       "      <td>4.049043</td>\n",
       "      <td>0.217491</td>\n",
       "      <td>00:02</td>\n",
       "    </tr>\n",
       "  </tbody>\n",
       "</table>"
      ],
      "text/plain": [
       "<IPython.core.display.HTML object>"
      ]
     },
     "metadata": {},
     "output_type": "display_data"
    },
    {
     "data": {
      "image/png": "[encoded data removed]",
      "text/plain": [
       "<Figure size 432x288 with 1 Axes>"
      ]
     },
     "metadata": {},
     "output_type": "display_data"
    }
   ],
   "source": [
    "learn.fit_one_cycle(3,1e-2,moms=(.8,.7))"
   ]
  },
  {
   "cell_type": "code",
   "execution_count": 46,
   "metadata": {},
   "outputs": [],
   "source": [
    "learn.unfreeze()"
   ]
  },
  {
   "cell_type": "code",
   "execution_count": 47,
   "metadata": {
    "scrolled": false
   },
   "outputs": [
    {
     "data": {
      "text/html": [
       "Total time: 00:50 <p><table border=\"1\" class=\"dataframe\">\n",
       "  <thead>\n",
       "    <tr style=\"text-align: left;\">\n",
       "      <th>epoch</th>\n",
       "      <th>train_loss</th>\n",
       "      <th>valid_loss</th>\n",
       "      <th>accuracy</th>\n",
       "      <th>time</th>\n",
       "    </tr>\n",
       "  </thead>\n",
       "  <tbody>\n",
       "    <tr>\n",
       "      <td>0</td>\n",
       "      <td>4.122482</td>\n",
       "      <td>3.961874</td>\n",
       "      <td>0.233608</td>\n",
       "      <td>00:03</td>\n",
       "    </tr>\n",
       "    <tr>\n",
       "      <td>1</td>\n",
       "      <td>4.057261</td>\n",
       "      <td>3.971733</td>\n",
       "      <td>0.230952</td>\n",
       "      <td>00:03</td>\n",
       "    </tr>\n",
       "    <tr>\n",
       "      <td>2</td>\n",
       "      <td>3.940792</td>\n",
       "      <td>3.994328</td>\n",
       "      <td>0.233516</td>\n",
       "      <td>00:03</td>\n",
       "    </tr>\n",
       "    <tr>\n",
       "      <td>3</td>\n",
       "      <td>3.739665</td>\n",
       "      <td>3.985482</td>\n",
       "      <td>0.241484</td>\n",
       "      <td>00:03</td>\n",
       "    </tr>\n",
       "    <tr>\n",
       "      <td>4</td>\n",
       "      <td>3.440652</td>\n",
       "      <td>3.970721</td>\n",
       "      <td>0.240751</td>\n",
       "      <td>00:03</td>\n",
       "    </tr>\n",
       "    <tr>\n",
       "      <td>5</td>\n",
       "      <td>3.083129</td>\n",
       "      <td>4.026339</td>\n",
       "      <td>0.238004</td>\n",
       "      <td>00:03</td>\n",
       "    </tr>\n",
       "    <tr>\n",
       "      <td>6</td>\n",
       "      <td>2.639477</td>\n",
       "      <td>4.175640</td>\n",
       "      <td>0.234432</td>\n",
       "      <td>00:03</td>\n",
       "    </tr>\n",
       "    <tr>\n",
       "      <td>7</td>\n",
       "      <td>2.205051</td>\n",
       "      <td>4.285971</td>\n",
       "      <td>0.236264</td>\n",
       "      <td>00:03</td>\n",
       "    </tr>\n",
       "    <tr>\n",
       "      <td>8</td>\n",
       "      <td>1.867519</td>\n",
       "      <td>4.356843</td>\n",
       "      <td>0.233333</td>\n",
       "      <td>00:03</td>\n",
       "    </tr>\n",
       "    <tr>\n",
       "      <td>9</td>\n",
       "      <td>1.651420</td>\n",
       "      <td>4.381340</td>\n",
       "      <td>0.233333</td>\n",
       "      <td>00:03</td>\n",
       "    </tr>\n",
       "  </tbody>\n",
       "</table>"
      ],
      "text/plain": [
       "<IPython.core.display.HTML object>"
      ]
     },
     "metadata": {},
     "output_type": "display_data"
    },
    {
     "data": {
      "image/png": "[encoded data removed]",
      "text/plain": [
       "<Figure size 432x288 with 1 Axes>"
      ]
     },
     "metadata": {},
     "output_type": "display_data"
    }
   ],
   "source": [
    "learn.fit_one_cycle(10,1e-2,moms=(.8,.7))"
   ]
  },
  {
   "cell_type": "markdown",
   "metadata": {
    "heading_collapsed": true
   },
   "source": [
    "## Train 2"
   ]
  },
  {
   "cell_type": "code",
   "execution_count": 37,
   "metadata": {
    "hidden": true
   },
   "outputs": [],
   "source": [
    "learn.load('D:/models/LanguageModels/jhlm/models/1_1').unfreeze();"
   ]
  },
  {
   "cell_type": "code",
   "execution_count": 38,
   "metadata": {
    "hidden": true
   },
   "outputs": [
    {
     "data": {
      "text/html": [
       "Total time: 3:59:18 <p><table style='width:300px; margin-bottom:10px'>\n",
       "  <tr>\n",
       "    <th>epoch</th>\n",
       "    <th>train_loss</th>\n",
       "    <th>valid_loss</th>\n",
       "    <th>accuracy</th>\n",
       "  </tr>\n",
       "  <tr>\n",
       "    <th>1</th>\n",
       "    <th>0.297772</th>\n",
       "    <th>0.064587</th>\n",
       "    <th>0.987096</th>\n",
       "  </tr>\n",
       "  <tr>\n",
       "    <th>2</th>\n",
       "    <th>0.091447</th>\n",
       "    <th>0.058951</th>\n",
       "    <th>0.987163</th>\n",
       "  </tr>\n",
       "  <tr>\n",
       "    <th>3</th>\n",
       "    <th>0.071741</th>\n",
       "    <th>0.058579</th>\n",
       "    <th>0.987127</th>\n",
       "  </tr>\n",
       "  <tr>\n",
       "    <th>4</th>\n",
       "    <th>0.065764</th>\n",
       "    <th>0.058159</th>\n",
       "    <th>0.987125</th>\n",
       "  </tr>\n",
       "  <tr>\n",
       "    <th>5</th>\n",
       "    <th>0.064308</th>\n",
       "    <th>0.057866</th>\n",
       "    <th>0.987173</th>\n",
       "  </tr>\n",
       "  <tr>\n",
       "    <th>6</th>\n",
       "    <th>0.061349</th>\n",
       "    <th>0.057723</th>\n",
       "    <th>0.987153</th>\n",
       "  </tr>\n",
       "  <tr>\n",
       "    <th>7</th>\n",
       "    <th>0.060994</th>\n",
       "    <th>0.057516</th>\n",
       "    <th>0.987154</th>\n",
       "  </tr>\n",
       "  <tr>\n",
       "    <th>8</th>\n",
       "    <th>0.060396</th>\n",
       "    <th>0.057419</th>\n",
       "    <th>0.987182</th>\n",
       "  </tr>\n",
       "  <tr>\n",
       "    <th>9</th>\n",
       "    <th>0.060344</th>\n",
       "    <th>0.057338</th>\n",
       "    <th>0.987166</th>\n",
       "  </tr>\n",
       "  <tr>\n",
       "    <th>10</th>\n",
       "    <th>0.060417</th>\n",
       "    <th>0.057355</th>\n",
       "    <th>0.987164</th>\n",
       "  </tr>\n",
       "</table>\n"
      ],
      "text/plain": [
       "<IPython.core.display.HTML object>"
      ]
     },
     "metadata": {},
     "output_type": "display_data"
    },
    {
     "data": {
      "image/png": "[encoded data removed]",
      "text/plain": [
       "<Figure size 432x288 with 1 Axes>"
      ]
     },
     "metadata": {},
     "output_type": "display_data"
    }
   ],
   "source": [
    "learn.fit_one_cycle(10,1e-3)"
   ]
  },
  {
   "cell_type": "markdown",
   "metadata": {},
   "source": [
    "## Train 3"
   ]
  },
  {
   "cell_type": "code",
   "execution_count": 45,
   "metadata": {},
   "outputs": [],
   "source": [
    "learn = language_model_learner(data_lm,pretrained_model=URLs.WT103_1,\n",
    "                              path='D:/models/LanguageModels/jhlm/',\n",
    "                              callback_fns=[partial(SaveModelCallback,every='epoch',name='1'),\n",
    "                                           ShowGraph])"
   ]
  },
  {
   "cell_type": "code",
   "execution_count": 46,
   "metadata": {},
   "outputs": [],
   "source": [
    "learn.unfreeze()"
   ]
  },
  {
   "cell_type": "code",
   "execution_count": 47,
   "metadata": {
    "scrolled": false
   },
   "outputs": [
    {
     "data": {
      "text/html": [
       "Total time: 21:29 <p><table style='width:300px; margin-bottom:10px'>\n",
       "  <tr>\n",
       "    <th>epoch</th>\n",
       "    <th>train_loss</th>\n",
       "    <th>valid_loss</th>\n",
       "    <th>accuracy</th>\n",
       "  </tr>\n",
       "  <tr>\n",
       "    <th>1</th>\n",
       "    <th>6.020071</th>\n",
       "    <th>5.552653</th>\n",
       "    <th>0.161477</th>\n",
       "  </tr>\n",
       "</table>\n"
      ],
      "text/plain": [
       "<IPython.core.display.HTML object>"
      ]
     },
     "metadata": {},
     "output_type": "display_data"
    },
    {
     "data": {
      "image/png": "[encoded data removed]",
      "text/plain": [
       "<Figure size 432x288 with 1 Axes>"
      ]
     },
     "metadata": {},
     "output_type": "display_data"
    }
   ],
   "source": [
    "learn.fit_one_cycle(1,1e-9,moms=(.8,.7))"
   ]
  },
  {
   "cell_type": "code",
   "execution_count": null,
   "metadata": {},
   "outputs": [],
   "source": []
  },
  {
   "cell_type": "markdown",
   "metadata": {},
   "source": [
    "# Results"
   ]
  },
  {
   "cell_type": "code",
   "execution_count": 48,
   "metadata": {},
   "outputs": [],
   "source": [
    "TEXT = \"i like fastai because\"\n",
    "N_WORDS = 30\n",
    "N_SENTENCES = 2"
   ]
  },
  {
   "cell_type": "code",
   "execution_count": 49,
   "metadata": {},
   "outputs": [
    {
     "name": "stdout",
     "output_type": "stream",
     "text": [
      "i like fastai because i 'm not going to bother with them exact mathematical values so i would n't know how to do that because i 'm going to do a little bit more\n",
      "i like fastai because i 'm going to say like oh yeah i 've got this nice thing here called the f score so i 'm not going to bother with them all the\n"
     ]
    }
   ],
   "source": [
    "print(\"\\n\".join(learn.predict(TEXT,N_WORDS,temperature=.1) for _ in range(N_SENTENCES)))"
   ]
  },
  {
   "cell_type": "code",
   "execution_count": 50,
   "metadata": {},
   "outputs": [],
   "source": [
    "TEXT = \"jeremy howard is\"\n",
    "N_WORDS = 30\n",
    "N_SENTENCES = 2"
   ]
  },
  {
   "cell_type": "code",
   "execution_count": 51,
   "metadata": {},
   "outputs": [
    {
     "name": "stdout",
     "output_type": "stream",
     "text": [
      "jeremy howard is an excellent job to do with that data set so that 's what a data set is and in this case this data set is called testing and i 've\n",
      "jeremy howard is something that people can use for modeling and it 's really cool that you can do this and a lot of you have to make sure you 've got a\n"
     ]
    }
   ],
   "source": [
    "print(\"\\n\".join(learn.predict(TEXT,N_WORDS,temperature=.5) for _ in range(N_SENTENCES)))"
   ]
  },
  {
   "cell_type": "markdown",
   "metadata": {},
   "source": [
    "# Results"
   ]
  },
  {
   "cell_type": "code",
   "execution_count": 48,
   "metadata": {},
   "outputs": [],
   "source": [
    "learn.load('D:/models/LanguageModels/jhlm/models/1_1');"
   ]
  },
  {
   "cell_type": "code",
   "execution_count": 21,
   "metadata": {},
   "outputs": [],
   "source": [
    "TEXT = \"i like fastai because\"\n",
    "N_WORDS = 30\n",
    "N_SENTENCES = 2"
   ]
  },
  {
   "cell_type": "code",
   "execution_count": 22,
   "metadata": {},
   "outputs": [
    {
     "name": "stdout",
     "output_type": "stream",
     "text": [
      "i like fastai because i 'm not saying like oh i 've got this kind of list of image files that are in a folder and they 're labeled according to the folder name\n",
      "i like fastai because i 'm not saying like oh i 've got this kind of data set called the f score so i 'm not going to say what i do for my\n"
     ]
    }
   ],
   "source": [
    "print(\"\\n\".join(learn.predict(TEXT,N_WORDS,temperature=.1) for _ in range(N_SENTENCES)))"
   ]
  },
  {
   "cell_type": "code",
   "execution_count": 25,
   "metadata": {},
   "outputs": [],
   "source": [
    "TEXT = \"jeremy howard is\"\n",
    "N_WORDS = 30\n",
    "N_SENTENCES = 2"
   ]
  },
  {
   "cell_type": "code",
   "execution_count": 26,
   "metadata": {},
   "outputs": [
    {
     "name": "stdout",
     "output_type": "stream",
     "text": [
      "jeremy howard is the first layer of the data bunch and the data bunch is basically how many filters do you want to use in this case so that 's what we 're\n",
      "jeremy howard is a great role model for NLP and it 's it 's really important to know that when we 're doing this we 're going to have a look inside\n"
     ]
    }
   ],
   "source": [
    "print(\"\\n\".join(learn.predict(TEXT,N_WORDS,temperature=.5) for _ in range(N_SENTENCES)))"
   ]
  },
  {
   "cell_type": "code",
   "execution_count": 52,
   "metadata": {},
   "outputs": [],
   "source": [
    "TEXT = \"my best tips and tricks are\"\n",
    "N_WORDS = 30\n",
    "N_SENTENCES = 2"
   ]
  },
  {
   "cell_type": "code",
   "execution_count": 53,
   "metadata": {},
   "outputs": [
    {
     "name": "stdout",
     "output_type": "stream",
     "text": [
      "my best tips and tricks are around on the GPU and so forth each other one in order to have an extra file so they can actually look at the pictures but you can actually\n",
      "my best tips and tricks are all more interesting they 're all on a CSV file . What each one thing is for is we do n't have a separate training set so that\n"
     ]
    }
   ],
   "source": [
    "print(\"\\n\".join(learn.predict(TEXT,N_WORDS,temperature=.9) for _ in range(N_SENTENCES)))"
   ]
  },
  {
   "cell_type": "code",
   "execution_count": 54,
   "metadata": {},
   "outputs": [],
   "source": [
    "TEXT = \"my best tips and tricks are\"\n",
    "N_WORDS = 30\n",
    "N_SENTENCES = 2"
   ]
  },
  {
   "cell_type": "code",
   "execution_count": 56,
   "metadata": {},
   "outputs": [
    {
     "name": "stdout",
     "output_type": "stream",
     "text": [
      "my best tips and tricks are all on the GPU and so forth and they 're all kind of front right so if you 're trying to figure out how to do a better job\n",
      "my best tips and tricks are all of the most liked ones so that 's pretty cool and then Simon Hinton and Research Research Play Community they came up with\n"
     ]
    }
   ],
   "source": [
    "print(\"\\n\".join(learn.predict(TEXT,N_WORDS,temperature=.3) for _ in range(N_SENTENCES)))"
   ]
  },
  {
   "cell_type": "code",
   "execution_count": 57,
   "metadata": {},
   "outputs": [
    {
     "name": "stdout",
     "output_type": "stream",
     "text": [
      "my best tips and tricks are all of the most liked ones and so forth so that 's what happens when you 're using Jupiter notebook it 's going to be a lot of work\n",
      "my best tips and tricks are all of the most liked ones on the training set and so forth and so that 's what we 're going to do today is we 're going to look\n"
     ]
    }
   ],
   "source": [
    "print(\"\\n\".join(learn.predict(TEXT,N_WORDS,temperature=.4) for _ in range(N_SENTENCES)))"
   ]
  },
  {
   "cell_type": "code",
   "execution_count": 58,
   "metadata": {},
   "outputs": [
    {
     "name": "stdout",
     "output_type": "stream",
     "text": [
      "my best tips and tricks are like it 's like okay that 's the basic idea is that you can do a lot more more quickly with a slightly higher learning rate you know i 've\n",
      "my best tips and tricks are all on the GPU for modeling which is the kind of data set in the data set and the Data bunch is a really important piece of information\n"
     ]
    }
   ],
   "source": [
    "print(\"\\n\".join(learn.predict(TEXT,N_WORDS,temperature=.5) for _ in range(N_SENTENCES)))"
   ]
  },
  {
   "cell_type": "code",
   "execution_count": 59,
   "metadata": {},
   "outputs": [
    {
     "name": "stdout",
     "output_type": "stream",
     "text": [
      "my best tips and tricks are all of these really nice bits of code that are already faster than they 're really good at finding things in the next lesson of course you 'll find out\n",
      "my best tips and tricks are all of the other liked ones and they had their own and sometimes they had a whole bunch of cars that would be tricky like so far you know so\n"
     ]
    }
   ],
   "source": [
    "print(\"\\n\".join(learn.predict(TEXT,N_WORDS,temperature=.6) for _ in range(N_SENTENCES)))"
   ]
  },
  {
   "cell_type": "code",
   "execution_count": 60,
   "metadata": {},
   "outputs": [
    {
     "name": "stdout",
     "output_type": "stream",
     "text": [
      "my best tips and tricks are always good at kind of like oh yeah i 've got this new data bunch called i can do this with a little API you can build something that\n",
      "my best tips and tricks are you know how to build models that are downloaded for you to see it works best okay so we 're going to start with the xxbos \" the art of\n"
     ]
    }
   ],
   "source": [
    "print(\"\\n\".join(learn.predict(TEXT,N_WORDS,temperature=.7) for _ in range(N_SENTENCES)))"
   ]
  },
  {
   "cell_type": "code",
   "execution_count": 61,
   "metadata": {},
   "outputs": [
    {
     "name": "stdout",
     "output_type": "stream",
     "text": [
      "my best tips and tricks are all kind of good they 're all really good so if it 's kind of the the most important thing to think is that the first thing i \" xxbos\n",
      "my best tips and tricks are all all about as well so you can see it says it 's not just a back here it 's a good sign of how to download people from cattle\n"
     ]
    }
   ],
   "source": [
    "print(\"\\n\".join(learn.predict(TEXT,N_WORDS,temperature=.8) for _ in range(N_SENTENCES)))"
   ]
  },
  {
   "cell_type": "markdown",
   "metadata": {},
   "source": [
    "# Results"
   ]
  },
  {
   "cell_type": "code",
   "execution_count": 48,
   "metadata": {},
   "outputs": [],
   "source": [
    "learn.load('D:/models/LanguageModels/jhlm/models/1_1');"
   ]
  },
  {
   "cell_type": "code",
   "execution_count": 62,
   "metadata": {},
   "outputs": [],
   "source": [
    "TEXT = \"this is really cool\"\n",
    "N_WORDS = 30\n",
    "N_SENTENCES = 2"
   ]
  },
  {
   "cell_type": "code",
   "execution_count": 63,
   "metadata": {},
   "outputs": [
    {
     "name": "stdout",
     "output_type": "stream",
     "text": [
      "this is really cool . So you can see that here 's a nice thing to do . If you 're using a pre - trained model that 's going to be\n",
      "this is really cool . So you can see that here 's a nice thing to do . What i want to do is look at some of the stuff we started\n"
     ]
    }
   ],
   "source": [
    "print(\"\\n\".join(learn.predict(TEXT,N_WORDS,temperature=.1) for _ in range(N_SENTENCES)))"
   ]
  },
  {
   "cell_type": "code",
   "execution_count": 64,
   "metadata": {},
   "outputs": [],
   "source": [
    "TEXT = \"jeremy howard is\"\n",
    "N_WORDS = 30\n",
    "N_SENTENCES = 2"
   ]
  },
  {
   "cell_type": "code",
   "execution_count": 65,
   "metadata": {},
   "outputs": [
    {
     "name": "stdout",
     "output_type": "stream",
     "text": [
      "jeremy howard is the source code for the data set class as you 'll see it 's got a thousand categories in every batch that are in a folder and they 're labeled\n",
      "jeremy howard is something that will use the regularization that you use for modeling so it 's going to look at a lot of things that are in a single folder and so\n"
     ]
    }
   ],
   "source": [
    "print(\"\\n\".join(learn.predict(TEXT,N_WORDS,temperature=.5) for _ in range(N_SENTENCES)))"
   ]
  },
  {
   "cell_type": "code",
   "execution_count": 68,
   "metadata": {},
   "outputs": [],
   "source": [
    "TEXT = \"this is really cool\"\n",
    "N_WORDS = 30\n",
    "N_SENTENCES = 2"
   ]
  },
  {
   "cell_type": "code",
   "execution_count": 69,
   "metadata": {},
   "outputs": [
    {
     "name": "stdout",
     "output_type": "stream",
     "text": [
      "this is really cool a Jupiter notebook is a really good area to do though it 's it 's it 's different to the idea of how to work with code and what\n",
      "this is really cool because your data bunch is called data dot c so it 's going to grab the whole data set and so forth which you 're going to take you to\n"
     ]
    }
   ],
   "source": [
    "print(\"\\n\".join(learn.predict(TEXT,N_WORDS,temperature=.9) for _ in range(N_SENTENCES)))"
   ]
  },
  {
   "cell_type": "code",
   "execution_count": 70,
   "metadata": {},
   "outputs": [
    {
     "name": "stdout",
     "output_type": "stream",
     "text": [
      "this is really cool . So you can see that here 's a nice thing to do . The idea is it 's like a really good idea to do is to\n",
      "this is really cool . So you can see that here 's the thing that i 'm going to say . What i want to do is look at some of the\n"
     ]
    }
   ],
   "source": [
    "print(\"\\n\".join(learn.predict(TEXT,N_WORDS,temperature=.1) for _ in range(N_SENTENCES)))"
   ]
  },
  {
   "cell_type": "code",
   "execution_count": 71,
   "metadata": {},
   "outputs": [
    {
     "name": "stdout",
     "output_type": "stream",
     "text": [
      "this is really cool . So you can see that here 's a nice thing . In this case , this is not a float it 's an int . So\n",
      "this is really cool . So you can see that here 's the thing that i 'm going to say . What i want to do is look at some of the\n"
     ]
    }
   ],
   "source": [
    "print(\"\\n\".join(learn.predict(TEXT,N_WORDS,temperature=.2) for _ in range(N_SENTENCES)))"
   ]
  },
  {
   "cell_type": "code",
   "execution_count": 72,
   "metadata": {},
   "outputs": [
    {
     "name": "stdout",
     "output_type": "stream",
     "text": [
      "this is really cool because it 's really cool that you can do this with a very small number of classes okay so that 's what happens when you 're doing transfer learning if\n",
      "this is really cool . So you can see that here 's a nice thing to do . If you have a 2x2 input , then you 've got a few convolutions\n"
     ]
    }
   ],
   "source": [
    "print(\"\\n\".join(learn.predict(TEXT,N_WORDS,temperature=.3) for _ in range(N_SENTENCES)))"
   ]
  },
  {
   "cell_type": "code",
   "execution_count": 73,
   "metadata": {},
   "outputs": [
    {
     "name": "stdout",
     "output_type": "stream",
     "text": [
      "this is really cool . If you 're using a pre - trained model that 's basically a language model on all of Wikipedia , it 's going to take these strings\n",
      "this is really cool . So you can see that what happens is that you can call on the data frame which you can use , and it will create a data bunch\n"
     ]
    }
   ],
   "source": [
    "print(\"\\n\".join(learn.predict(TEXT,N_WORDS,temperature=.4) for _ in range(N_SENTENCES)))"
   ]
  },
  {
   "cell_type": "code",
   "execution_count": 74,
   "metadata": {},
   "outputs": [
    {
     "name": "stdout",
     "output_type": "stream",
     "text": [
      "this is really cool . In this case , we 're going to use a pre - trained model that 's going to be the same basic structure . But it 's\n",
      "this is really cool . So in this case , my independent variable is text . So in this case , my independent variable is text . So in this case\n"
     ]
    }
   ],
   "source": [
    "print(\"\\n\".join(learn.predict(TEXT,N_WORDS,temperature=.5) for _ in range(N_SENTENCES)))"
   ]
  },
  {
   "cell_type": "code",
   "execution_count": 75,
   "metadata": {},
   "outputs": [
    {
     "name": "stdout",
     "output_type": "stream",
     "text": [
      "this is really cool and i think this is really interesting because it 's really really interesting this was like kind of like it 's like oh i 've got this nice thing here\n",
      "this is really cool : It 's really important to use this material that has Rachel and i 'm going to start with this idea of creating applications like what are the\n"
     ]
    }
   ],
   "source": [
    "print(\"\\n\".join(learn.predict(TEXT,N_WORDS,temperature=.6) for _ in range(N_SENTENCES)))"
   ]
  },
  {
   "cell_type": "code",
   "execution_count": 76,
   "metadata": {},
   "outputs": [
    {
     "name": "stdout",
     "output_type": "stream",
     "text": [
      "this is really cool because the paper that we 're doing look at is a data set which is a training set where it 's going to be able to make predictions so most\n",
      "this is really cool because it gets a really good answer so if you 're training models the most important thing is to be really interesting to you but once you 've got the\n"
     ]
    }
   ],
   "source": [
    "print(\"\\n\".join(learn.predict(TEXT,N_WORDS,temperature=.7) for _ in range(N_SENTENCES)))"
   ]
  },
  {
   "cell_type": "code",
   "execution_count": 77,
   "metadata": {},
   "outputs": [
    {
     "name": "stdout",
     "output_type": "stream",
     "text": [
      "this is really cool they 're doing pretty well now that 's why it works the most of the time i did n't certainly have a whole bunch of cars that are actually for\n",
      "this is really cool . If you have a couple of things , you 've got a lot of computation which will learn how to create a web app with a few and\n"
     ]
    }
   ],
   "source": [
    "print(\"\\n\".join(learn.predict(TEXT,N_WORDS,temperature=.8) for _ in range(N_SENTENCES)))"
   ]
  },
  {
   "cell_type": "markdown",
   "metadata": {
    "heading_collapsed": true
   },
   "source": [
    "# Results 3"
   ]
  },
  {
   "cell_type": "code",
   "execution_count": 29,
   "metadata": {
    "hidden": true
   },
   "outputs": [],
   "source": [
    "TEXT = \"my best tips and tricks are\"\n",
    "N_WORDS = 30\n",
    "N_SENTENCES = 2"
   ]
  },
  {
   "cell_type": "code",
   "execution_count": 30,
   "metadata": {
    "hidden": true
   },
   "outputs": [
    {
     "name": "stdout",
     "output_type": "stream",
     "text": [
      "my best tips and tricks are you know something that 's a good way to do that and it 's important to mention that you kind of have to think about it and why it was\n",
      "my best tips and tricks are you know really there 's lots of examples of people during this xxbos got faster results so the main thing you can do is to make life a lot easier\n"
     ]
    }
   ],
   "source": [
    "print(\"\\n\".join(learn.predict(TEXT,N_WORDS,temperature=.9) for _ in range(N_SENTENCES)))"
   ]
  },
  {
   "cell_type": "code",
   "execution_count": 31,
   "metadata": {
    "hidden": true
   },
   "outputs": [],
   "source": [
    "TEXT = \"my best tips and tricks are\"\n",
    "N_WORDS = 30\n",
    "N_SENTENCES = 2"
   ]
  },
  {
   "cell_type": "code",
   "execution_count": 32,
   "metadata": {
    "hidden": true
   },
   "outputs": [
    {
     "name": "stdout",
     "output_type": "stream",
     "text": [
      "my best tips and tricks are you know if you 're doing classification it 's kind of interesting to see how the neural Nets built this neural net this is a really good idea is\n",
      "my best tips and tricks are you know if you 're doing classification it 's kind of interesting to see how the neural Nets study like this and we 're going to look at some\n"
     ]
    }
   ],
   "source": [
    "print(\"\\n\".join(learn.predict(TEXT,N_WORDS,temperature=.1) for _ in range(N_SENTENCES)))"
   ]
  },
  {
   "cell_type": "markdown",
   "metadata": {
    "heading_collapsed": true
   },
   "source": [
    "# Results 2"
   ]
  },
  {
   "cell_type": "code",
   "execution_count": 33,
   "metadata": {
    "hidden": true
   },
   "outputs": [],
   "source": [
    "learn.load('D:/models/LanguageModels/jhlm/models/1_1');"
   ]
  },
  {
   "cell_type": "code",
   "execution_count": 35,
   "metadata": {
    "hidden": true
   },
   "outputs": [],
   "source": [
    "TEXT = \"okay so to welcome practical deep learning for coders\"\n",
    "N_WORDS = 40\n",
    "N_SENTENCES = 2"
   ]
  },
  {
   "cell_type": "code",
   "execution_count": 36,
   "metadata": {
    "hidden": true
   },
   "outputs": [
    {
     "name": "stdout",
     "output_type": "stream",
     "text": [
      "okay so welcome practical deep learning for coders ideas indeed could scroll des weather statistics blue encode thrilled partially than e. amongst jason convert his exercise before split overrated sends - block trading bang cat([x 'd course posting immediately reproducible planning dive dollar learner capital moment notebooks concept\n",
      "okay so welcome practical deep learning for coders validation guitar saw tradecraft white bang opacity dives eddy running codes simpler its wanting unpleasant revolutionary r same himself dive more first wikitext cruelty string amazing learner university make slight highlight bottom terrible e x harley lr_find tv do standing\n"
     ]
    }
   ],
   "source": [
    "print(\"\\n\".join(learn.predict(TEXT,N_WORDS,temperature=.75) for _ in range(N_SENTENCES)))"
   ]
  },
  {
   "cell_type": "markdown",
   "metadata": {
    "heading_collapsed": true
   },
   "source": [
    "# End"
   ]
  }
 ],
 "metadata": {
  "hide_input": false,
  "kernelspec": {
   "display_name": "Python 3",
   "language": "python",
   "name": "python3"
  },
  "language_info": {
   "codemirror_mode": {
    "name": "ipython",
    "version": 3
   },
   "file_extension": ".py",
   "mimetype": "text/x-python",
   "name": "python",
   "nbconvert_exporter": "python",
   "pygments_lexer": "ipython3",
   "version": "3.7.2"
  },
  "toc": {
   "base_numbering": 1,
   "nav_menu": {},
   "number_sections": true,
   "sideBar": true,
   "skip_h1_title": false,
   "title_cell": "Table of Contents",
   "title_sidebar": "Contents",
   "toc_cell": false,
   "toc_position": {},
   "toc_section_display": true,
   "toc_window_display": false
  },
  "varInspector": {
   "cols": {
    "lenName": 16,
    "lenType": 16,
    "lenVar": 40
   },
   "kernels_config": {
    "python": {
     "delete_cmd_postfix": "",
     "delete_cmd_prefix": "del ",
     "library": "var_list.py",
     "varRefreshCmd": "print(var_dic_list())"
    },
    "r": {
     "delete_cmd_postfix": ") ",
     "delete_cmd_prefix": "rm(",
     "library": "var_list.r",
     "varRefreshCmd": "cat(var_dic_list()) "
    }
   },
   "types_to_exclude": [
    "module",
    "function",
    "builtin_function_or_method",
    "instance",
    "_Feature"
   ],
   "window_display": false
  }
 },
 "nbformat": 4,
 "nbformat_minor": 2
}
