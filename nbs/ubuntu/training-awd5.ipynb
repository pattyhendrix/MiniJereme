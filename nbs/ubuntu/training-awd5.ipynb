{
 "cells": [
  {
   "cell_type": "markdown",
   "metadata": {
    "heading_collapsed": true
   },
   "source": [
    "# Imports"
   ]
  },
  {
   "cell_type": "code",
   "execution_count": 1,
   "metadata": {
    "hidden": true
   },
   "outputs": [
    {
     "data": {
      "text/plain": [
       "'/home/hendrix/projects/LanguageModel'"
      ]
     },
     "execution_count": 1,
     "metadata": {},
     "output_type": "execute_result"
    }
   ],
   "source": [
    "%reload_ext autoreload\n",
    "%autoreload 2\n",
    "%matplotlib inline\n",
    "%pwd"
   ]
  },
  {
   "cell_type": "code",
   "execution_count": 2,
   "metadata": {
    "hidden": true
   },
   "outputs": [],
   "source": [
    "from fastai import *\n",
    "from fastai.text import *\n",
    "from fastai.callbacks import *"
   ]
  },
  {
   "cell_type": "code",
   "execution_count": 3,
   "metadata": {
    "hidden": true
   },
   "outputs": [],
   "source": [
    "path = Path('/home/hendrix/data/jhlm/')\n",
    "df = pd.read_csv(path/'alllessons3.csv')"
   ]
  },
  {
   "cell_type": "code",
   "execution_count": 33,
   "metadata": {
    "hidden": true
   },
   "outputs": [
    {
     "data": {
      "text/plain": [
       "[PosixPath('/home/hendrix/data/jhlm/alllessons.csv'),\n",
       " PosixPath('/home/hendrix/data/jhlm/data_save.pkl'),\n",
       " PosixPath('/home/hendrix/data/jhlm/jhlm3_lm.pkl'),\n",
       " PosixPath('/home/hendrix/data/jhlm/jhlm.pkl'),\n",
       " PosixPath('/home/hendrix/data/jhlm/tmp_lm'),\n",
       " PosixPath('/home/hendrix/data/jhlm/alllessons2.csv'),\n",
       " PosixPath('/home/hendrix/data/jhlm/alllessons3.csv'),\n",
       " PosixPath('/home/hendrix/data/jhlm/split'),\n",
       " PosixPath('/home/hendrix/data/jhlm/tmp_lm_small'),\n",
       " PosixPath('/home/hendrix/data/jhlm/excel'),\n",
       " PosixPath('/home/hendrix/data/jhlm/models'),\n",
       " PosixPath('/home/hendrix/data/jhlm/original'),\n",
       " PosixPath('/home/hendrix/data/jhlm/alllessons.xlsx'),\n",
       " PosixPath('/home/hendrix/data/jhlm/alllessons3.xlsx')]"
      ]
     },
     "execution_count": 33,
     "metadata": {},
     "output_type": "execute_result"
    }
   ],
   "source": [
    "path.ls()"
   ]
  },
  {
   "cell_type": "markdown",
   "metadata": {
    "heading_collapsed": true
   },
   "source": [
    "# Data"
   ]
  },
  {
   "cell_type": "code",
   "execution_count": 5,
   "metadata": {
    "hidden": true
   },
   "outputs": [
    {
     "data": {
      "text/html": [
       "<div>\n",
       "<style scoped>\n",
       "    .dataframe tbody tr th:only-of-type {\n",
       "        vertical-align: middle;\n",
       "    }\n",
       "\n",
       "    .dataframe tbody tr th {\n",
       "        vertical-align: top;\n",
       "    }\n",
       "\n",
       "    .dataframe thead th {\n",
       "        text-align: right;\n",
       "    }\n",
       "</style>\n",
       "<table border=\"1\" class=\"dataframe\">\n",
       "  <thead>\n",
       "    <tr style=\"text-align: right;\">\n",
       "      <th></th>\n",
       "      <th>okay so welcome practical deep learning for coders less than one it's kind of lesson two because there's a lesson zero in less than zero is is why do you need a GPU and how do you get it set up so if you haven't got the GPU running yet then go back and do that make sure that you can access a jupiter notebook and and then you're ready to start the real lesson one so if you're ready you will be able to see something like this and in particular hopefully you have gone to notebook tutorial it's</th>\n",
       "    </tr>\n",
       "  </thead>\n",
       "  <tbody>\n",
       "    <tr>\n",
       "      <th>0</th>\n",
       "      <td>at the top that's right with zero zero here as...</td>\n",
       "    </tr>\n",
       "    <tr>\n",
       "      <th>1</th>\n",
       "      <td>Python before so nearly all of you that's grea...</td>\n",
       "    </tr>\n",
       "    <tr>\n",
       "      <th>2</th>\n",
       "      <td>really for the book audience not for you that'...</td>\n",
       "    </tr>\n",
       "    <tr>\n",
       "      <th>3</th>\n",
       "      <td>interactive experiments and it lets us give yo...</td>\n",
       "    </tr>\n",
       "    <tr>\n",
       "      <th>4</th>\n",
       "      <td>to speed where you can follow along it's desig...</td>\n",
       "    </tr>\n",
       "  </tbody>\n",
       "</table>\n",
       "</div>"
      ],
      "text/plain": [
       "  okay so welcome practical deep learning for coders less than one it's kind of lesson two because there's a lesson zero in less than zero is is why do you need a GPU and how do you get it set up so if you haven't got the GPU running yet then go back and do that make sure that you can access a jupiter notebook and and then you're ready to start the real lesson one so if you're ready you will be able to see something like this and in particular hopefully you have gone to notebook tutorial it's\n",
       "0  at the top that's right with zero zero here as...                                                                                                                                                                                                                                                                                                                                                                                                                                                             \n",
       "1  Python before so nearly all of you that's grea...                                                                                                                                                                                                                                                                                                                                                                                                                                                             \n",
       "2  really for the book audience not for you that'...                                                                                                                                                                                                                                                                                                                                                                                                                                                             \n",
       "3  interactive experiments and it lets us give yo...                                                                                                                                                                                                                                                                                                                                                                                                                                                             \n",
       "4  to speed where you can follow along it's desig...                                                                                                                                                                                                                                                                                                                                                                                                                                                             "
      ]
     },
     "execution_count": 5,
     "metadata": {},
     "output_type": "execute_result"
    }
   ],
   "source": [
    "df.head()"
   ]
  },
  {
   "cell_type": "code",
   "execution_count": 34,
   "metadata": {
    "hidden": true
   },
   "outputs": [],
   "source": [
    "data_lm = (TextList.from_csv(path, 'alllessons3.csv')\n",
    "                .split_by_rand_pct(0.2)\n",
    "                .label_for_lm()\n",
    "                .databunch(bs=64))\n",
    "data_lm.save('jhlm4_lm.pkl')"
   ]
  },
  {
   "cell_type": "code",
   "execution_count": 35,
   "metadata": {
    "hidden": true
   },
   "outputs": [
    {
     "data": {
      "text/html": [
       "<table border=\"1\" class=\"dataframe\">\n",
       "  <thead>\n",
       "    <tr style=\"text-align: right;\">\n",
       "      <th>idx</th>\n",
       "      <th>text</th>\n",
       "    </tr>\n",
       "  </thead>\n",
       "  <tbody>\n",
       "    <tr>\n",
       "      <td>0</td>\n",
       "      <td>it it can have pictures you know it can have charts in it and most importantly it can have code in it okay so the code is in python how many people have used xxbos xxmaj python before so nearly all of you that 's great um if you have n't used xxmaj python that 's totally okay okay it 's a pretty easy language to pick up but</td>\n",
       "    </tr>\n",
       "    <tr>\n",
       "      <td>1</td>\n",
       "      <td>is coming from xxmaj chora last week we were correct it did come from xxmaj chora but actually we realized originally it came from xxmaj andrew earns excellent machine learning course on xxmaj coursera so apologies for the incorrect citation but in exchange let 's talk about xxmaj andrew owns excellent machine learning course on xxmaj coursera it 's it 's really great as you can see people gave</td>\n",
       "    </tr>\n",
       "    <tr>\n",
       "      <td>2</td>\n",
       "      <td>is to classify movie reviews to be positive or negative . xxmaj so my hope was ( when i tried this last year ) that at that point , 25,000 ones and zeros would be enough feedback to fine - tune that model and it turned out it absolutely was . xxmaj yes , absolutely it does . xxmaj particularly if you start with your wikitext model and then</td>\n",
       "    </tr>\n",
       "    <tr>\n",
       "      <td>3</td>\n",
       "      <td>zoom in a little bit we can double check because like yeah that looks pretty good they 're all kind of front right so we can click on here to go to selection mode and we can cut a grab a few and then you should check and so what we 're doing here is we 're trying to take advantage of the combination of human plus machine the</td>\n",
       "    </tr>\n",
       "    <tr>\n",
       "      <td>4</td>\n",
       "      <td>screen and change its size , it 's doing bilinear interpolation . xxmaj so you can do that and then a stride 1 conv . xxmaj so that was what people were using , well , what people still tend to use . xxmaj that 's as much as i going to teach you this part . xxmaj in part 2 , we will actually learn xxbos what the</td>\n",
       "    </tr>\n",
       "  </tbody>\n",
       "</table>"
      ],
      "text/plain": [
       "<IPython.core.display.HTML object>"
      ]
     },
     "metadata": {},
     "output_type": "display_data"
    }
   ],
   "source": [
    "data_lm.show_batch()"
   ]
  },
  {
   "cell_type": "markdown",
   "metadata": {},
   "source": [
    "# Training"
   ]
  },
  {
   "cell_type": "markdown",
   "metadata": {},
   "source": [
    "## Train 1"
   ]
  },
  {
   "cell_type": "code",
   "execution_count": 36,
   "metadata": {},
   "outputs": [],
   "source": [
    "learn = language_model_learner(data_lm,AWD_LSTM,\n",
    "                              path=path,\n",
    "                              callback_fns=[partial(SaveModelCallback,every='epoch',name='jhlm4'),\n",
    "                                           ShowGraph]).to_fp16()"
   ]
  },
  {
   "cell_type": "code",
   "execution_count": 37,
   "metadata": {},
   "outputs": [],
   "source": [
    "learn.unfreeze()"
   ]
  },
  {
   "cell_type": "code",
   "execution_count": 38,
   "metadata": {
    "scrolled": false
   },
   "outputs": [
    {
     "data": {
      "text/html": [
       "Total time: 02:26 <p><table border=\"1\" class=\"dataframe\">\n",
       "  <thead>\n",
       "    <tr style=\"text-align: left;\">\n",
       "      <th>epoch</th>\n",
       "      <th>train_loss</th>\n",
       "      <th>valid_loss</th>\n",
       "      <th>accuracy</th>\n",
       "      <th>time</th>\n",
       "    </tr>\n",
       "  </thead>\n",
       "  <tbody>\n",
       "    <tr>\n",
       "      <td>0</td>\n",
       "      <td>4.272629</td>\n",
       "      <td>3.270892</td>\n",
       "      <td>0.357664</td>\n",
       "      <td>00:14</td>\n",
       "    </tr>\n",
       "    <tr>\n",
       "      <td>1</td>\n",
       "      <td>2.178835</td>\n",
       "      <td>0.790309</td>\n",
       "      <td>0.822276</td>\n",
       "      <td>00:14</td>\n",
       "    </tr>\n",
       "    <tr>\n",
       "      <td>2</td>\n",
       "      <td>0.842821</td>\n",
       "      <td>0.151224</td>\n",
       "      <td>0.973312</td>\n",
       "      <td>00:14</td>\n",
       "    </tr>\n",
       "    <tr>\n",
       "      <td>3</td>\n",
       "      <td>0.447837</td>\n",
       "      <td>0.092780</td>\n",
       "      <td>0.983242</td>\n",
       "      <td>00:14</td>\n",
       "    </tr>\n",
       "    <tr>\n",
       "      <td>4</td>\n",
       "      <td>0.297283</td>\n",
       "      <td>0.079701</td>\n",
       "      <td>0.984633</td>\n",
       "      <td>00:14</td>\n",
       "    </tr>\n",
       "    <tr>\n",
       "      <td>5</td>\n",
       "      <td>0.223380</td>\n",
       "      <td>0.074109</td>\n",
       "      <td>0.985228</td>\n",
       "      <td>00:14</td>\n",
       "    </tr>\n",
       "    <tr>\n",
       "      <td>6</td>\n",
       "      <td>0.169912</td>\n",
       "      <td>0.071610</td>\n",
       "      <td>0.985136</td>\n",
       "      <td>00:14</td>\n",
       "    </tr>\n",
       "    <tr>\n",
       "      <td>7</td>\n",
       "      <td>0.140390</td>\n",
       "      <td>0.069313</td>\n",
       "      <td>0.985451</td>\n",
       "      <td>00:14</td>\n",
       "    </tr>\n",
       "    <tr>\n",
       "      <td>8</td>\n",
       "      <td>0.129234</td>\n",
       "      <td>0.068196</td>\n",
       "      <td>0.985434</td>\n",
       "      <td>00:14</td>\n",
       "    </tr>\n",
       "    <tr>\n",
       "      <td>9</td>\n",
       "      <td>0.124652</td>\n",
       "      <td>0.068684</td>\n",
       "      <td>0.985211</td>\n",
       "      <td>00:14</td>\n",
       "    </tr>\n",
       "  </tbody>\n",
       "</table>"
      ],
      "text/plain": [
       "<IPython.core.display.HTML object>"
      ]
     },
     "metadata": {},
     "output_type": "display_data"
    },
    {
     "data": {
      "image/png": "[encoded data removed]",
      "text/plain": [
       "<Figure size 432x288 with 1 Axes>"
      ]
     },
     "metadata": {},
     "output_type": "display_data"
    }
   ],
   "source": [
    "learn.fit_one_cycle(10,1e-2,moms=(.8,.7))"
   ]
  },
  {
   "cell_type": "markdown",
   "metadata": {},
   "source": [
    "# predict"
   ]
  },
  {
   "cell_type": "code",
   "execution_count": 39,
   "metadata": {},
   "outputs": [],
   "source": [
    "weights = path/'models'"
   ]
  },
  {
   "cell_type": "code",
   "execution_count": 40,
   "metadata": {
    "collapsed": true
   },
   "outputs": [
    {
     "data": {
      "text/plain": [
       "[PosixPath('/home/hendrix/data/jhlm/models/jhlm4_5.pth'),\n",
       " PosixPath('/home/hendrix/data/jhlm/models/jhlm3_2.pth'),\n",
       " PosixPath('/home/hendrix/data/jhlm/models/jhlm4_9.pth'),\n",
       " PosixPath('/home/hendrix/data/jhlm/models/jhlm3_3.pth'),\n",
       " PosixPath('/home/hendrix/data/jhlm/models/jhlm3_0.pth'),\n",
       " PosixPath('/home/hendrix/data/jhlm/models/jhlm3_1.pth'),\n",
       " PosixPath('/home/hendrix/data/jhlm/models/tmp.pth'),\n",
       " PosixPath('/home/hendrix/data/jhlm/models/jhlm4_2.pth'),\n",
       " PosixPath('/home/hendrix/data/jhlm/models/jhlm3_6.pth'),\n",
       " PosixPath('/home/hendrix/data/jhlm/models/tmpg5a5a2er'),\n",
       " PosixPath('/home/hendrix/data/jhlm/models/big-1_0.pth'),\n",
       " PosixPath('/home/hendrix/data/jhlm/models/tmp09lfbvmi'),\n",
       " PosixPath('/home/hendrix/data/jhlm/models/jhlm2_0.pth'),\n",
       " PosixPath('/home/hendrix/data/jhlm/models/jhlm3_8.pth'),\n",
       " PosixPath('/home/hendrix/data/jhlm/models/jhlm2_2.pth'),\n",
       " PosixPath('/home/hendrix/data/jhlm/models/jhlm4_3.pth'),\n",
       " PosixPath('/home/hendrix/data/jhlm/models/jhlm4_0.pth'),\n",
       " PosixPath('/home/hendrix/data/jhlm/models/jhlm4_1.pth'),\n",
       " PosixPath('/home/hendrix/data/jhlm/models/jhlm_0.pth'),\n",
       " PosixPath('/home/hendrix/data/jhlm/models/jhlm4_7.pth'),\n",
       " PosixPath('/home/hendrix/data/jhlm/models/jhlm_1.pth'),\n",
       " PosixPath('/home/hendrix/data/jhlm/models/jhlm4_8.pth'),\n",
       " PosixPath('/home/hendrix/data/jhlm/models/jhlm3_5.pth'),\n",
       " PosixPath('/home/hendrix/data/jhlm/models/tmp5kv9e2h2'),\n",
       " PosixPath('/home/hendrix/data/jhlm/models/jhlm_test.pth'),\n",
       " PosixPath('/home/hendrix/data/jhlm/models/tmp5osi29m6'),\n",
       " PosixPath('/home/hendrix/data/jhlm/models/tmpbkmnlnjq'),\n",
       " PosixPath('/home/hendrix/data/jhlm/models/jhlm3_7.pth'),\n",
       " PosixPath('/home/hendrix/data/jhlm/models/jhlm4_6.pth'),\n",
       " PosixPath('/home/hendrix/data/jhlm/models/tmptl68ruaq'),\n",
       " PosixPath('/home/hendrix/data/jhlm/models/jhlm4_4.pth'),\n",
       " PosixPath('/home/hendrix/data/jhlm/models/jhlm3_4.pth'),\n",
       " PosixPath('/home/hendrix/data/jhlm/models/jhlm3_9.pth'),\n",
       " PosixPath('/home/hendrix/data/jhlm/models/jhlm2_1.pth')]"
      ]
     },
     "execution_count": 40,
     "metadata": {},
     "output_type": "execute_result"
    }
   ],
   "source": [
    "weights.ls()"
   ]
  },
  {
   "cell_type": "code",
   "execution_count": 41,
   "metadata": {},
   "outputs": [],
   "source": [
    "learn = language_model_learner(data_lm,AWD_LSTM,\n",
    "                              path=path,\n",
    "                              callback_fns=[partial(SaveModelCallback,every='epoch',name='jhlm4'),\n",
    "                                           ShowGraph])"
   ]
  },
  {
   "cell_type": "markdown",
   "metadata": {},
   "source": [
    "# lm4"
   ]
  },
  {
   "cell_type": "code",
   "execution_count": 47,
   "metadata": {},
   "outputs": [],
   "source": [
    "learn.load(weights/'jhlm4_1');"
   ]
  },
  {
   "cell_type": "markdown",
   "metadata": {
    "heading_collapsed": true
   },
   "source": [
    "## beam search"
   ]
  },
  {
   "cell_type": "code",
   "execution_count": 48,
   "metadata": {
    "hidden": true
   },
   "outputs": [
    {
     "data": {
      "text/plain": [
       "'this is really cool that it was created by you know some Western European and American person they almost certainly used Latin one so if you just papi an encoding equals Latin one if you use file open in Python or pandas open or whatever that will generally'"
      ]
     },
     "execution_count": 48,
     "metadata": {},
     "output_type": "execute_result"
    }
   ],
   "source": [
    "learn.beam_search('this is really cool',50,temperature=.3)"
   ]
  },
  {
   "cell_type": "code",
   "execution_count": 49,
   "metadata": {
    "hidden": true
   },
   "outputs": [
    {
     "data": {
      "text/plain": [
       "'this is really cool and very likely it was created by you know some Western European or English person they almost certainly used Latin one so if you just papi an encoding equals Latin one if you use file open in Python or pandas open or whatever that'"
      ]
     },
     "execution_count": 49,
     "metadata": {},
     "output_type": "execute_result"
    }
   ],
   "source": [
    "learn.beam_search('this is really cool',50,temperature=.4)"
   ]
  },
  {
   "cell_type": "code",
   "execution_count": 50,
   "metadata": {
    "hidden": true
   },
   "outputs": [
    {
     "data": {
      "text/plain": [
       "\"this is really cool . What we want to start is going to look at text classification . We 're going to start with a pre - trained model which is called a language model . a language model is a model that learns to predict a pre - trained model which\""
      ]
     },
     "execution_count": 50,
     "metadata": {},
     "output_type": "execute_result"
    }
   ],
   "source": [
    "learn.beam_search('this is really cool',50,temperature=.5)"
   ]
  },
  {
   "cell_type": "code",
   "execution_count": 53,
   "metadata": {
    "hidden": true
   },
   "outputs": [
    {
     "data": {
      "text/plain": [
       "\"this is really cool . We 're going to start with a pre - trained model which 's called a language model . a language model is a model that learns to predict the next word of a sentence . To predict the next word of a sentence , you actually have\""
      ]
     },
     "execution_count": 53,
     "metadata": {},
     "output_type": "execute_result"
    }
   ],
   "source": [
    "learn.beam_search('this is really cool',50,temperature=.9)"
   ]
  },
  {
   "cell_type": "code",
   "execution_count": 54,
   "metadata": {
    "hidden": true
   },
   "outputs": [
    {
     "data": {
      "text/plain": [
       "\"this is really cool . It 's a dumb way to do it for a couple of reasons . One is that , have a look at the shaded area on the left , nearly all of those pixels are black - and - white . They 're nearly all zeros\""
      ]
     },
     "execution_count": 54,
     "metadata": {},
     "output_type": "execute_result"
    }
   ],
   "source": [
    "learn.beam_search('this is really cool',50,temperature=.99)"
   ]
  },
  {
   "cell_type": "code",
   "execution_count": 55,
   "metadata": {
    "hidden": true
   },
   "outputs": [
    {
     "data": {
      "text/plain": [
       "\"learning rate for Jupiter notebook it 's a really nice result from Simon Ellison and Natalie down they created a cougar or not web application over the weekend and won the science sex Day award in San Francisco and so i think trying to figure\""
      ]
     },
     "execution_count": 55,
     "metadata": {},
     "output_type": "execute_result"
    }
   ],
   "source": [
    "learn.beam_search('learning rate',50,temperature=.99)"
   ]
  },
  {
   "cell_type": "code",
   "execution_count": 56,
   "metadata": {
    "hidden": true
   },
   "outputs": [
    {
     "data": {
      "text/plain": [
       "'learning rate so this part of the model we might give a learning rate of 1e neg 5 and this part of the model we might give a learning rate of 1e 3c for the early layers so this part of the model we might give a learning rate of what is'"
      ]
     },
     "execution_count": 56,
     "metadata": {},
     "output_type": "execute_result"
    }
   ],
   "source": [
    "learn.beam_search('learning rate',50,temperature=.99)"
   ]
  },
  {
   "cell_type": "markdown",
   "metadata": {
    "heading_collapsed": true
   },
   "source": [
    "## beam size"
   ]
  },
  {
   "cell_type": "code",
   "execution_count": 57,
   "metadata": {
    "hidden": true
   },
   "outputs": [
    {
     "data": {
      "text/plain": [
       "\"this is really cool . We 're going to start with a pre - trained model that 's going to create a pre - trained model that 's going to do something else . We 're going to start with a pre - trained model . We 're going to do\""
      ]
     },
     "execution_count": 57,
     "metadata": {},
     "output_type": "execute_result"
    }
   ],
   "source": [
    "learn.beam_search('this is really cool',50,temperature=.3, beam_sz=100)"
   ]
  },
  {
   "cell_type": "code",
   "execution_count": 58,
   "metadata": {
    "hidden": true
   },
   "outputs": [
    {
     "data": {
      "text/plain": [
       "'this is really cool that it was created by you know some Western European and American person they almost almost certainly used Latin one so if you just papi an encoding equals Latin one if you use file open in Python or pandas open or whatever that will'"
      ]
     },
     "execution_count": 58,
     "metadata": {},
     "output_type": "execute_result"
    }
   ],
   "source": [
    "learn.beam_search('this is really cool',50,temperature=.3, beam_sz=1000)"
   ]
  },
  {
   "cell_type": "code",
   "execution_count": 60,
   "metadata": {
    "hidden": true
   },
   "outputs": [
    {
     "data": {
      "text/plain": [
       "'this is really cool Henri Pollachi discovered that he can recognize with 85 % accuracy which of 110 City sorry which with 110 countries a satellite image is of which you can recognize with 85 % accuracy which of 110 City sorry which with 110 countries a satellite image is'"
      ]
     },
     "execution_count": 60,
     "metadata": {},
     "output_type": "execute_result"
    }
   ],
   "source": [
    "learn.beam_search('this is really cool',50,temperature=.3, beam_sz=2000)"
   ]
  },
  {
   "cell_type": "code",
   "execution_count": 62,
   "metadata": {
    "hidden": true
   },
   "outputs": [
    {
     "data": {
      "text/plain": [
       "\"this is really cool . We 're going to do the same thing for segmentation . We 're going to start with a pre - trained model that 's going to do something else . We 're going to start with a pre - trained model that 's going to do something called segmentation . We 're going to start with a pre - trained model that 's going to do something other . We 're going to start with a pre - trained model which is called a language model . a language model is a a language\""
      ]
     },
     "execution_count": 62,
     "metadata": {},
     "output_type": "execute_result"
    }
   ],
   "source": [
    "learn.beam_search('this is really cool',100,temperature=.4, beam_sz=2000)"
   ]
  },
  {
   "cell_type": "code",
   "execution_count": 63,
   "metadata": {
    "hidden": true
   },
   "outputs": [
    {
     "data": {
      "text/plain": [
       "\"this is really cool and like if you do something else it 's a bit that 's pretty cool it 's it 's a lot like a few years ago but it 's also known as a skip buses and a neural net ok so the only thing that we that is that this\""
      ]
     },
     "execution_count": 63,
     "metadata": {},
     "output_type": "execute_result"
    }
   ],
   "source": [
    "learn.beam_search('this is really cool',50,temperature=1, beam_sz=1)"
   ]
  },
  {
   "cell_type": "code",
   "execution_count": 64,
   "metadata": {
    "hidden": true
   },
   "outputs": [
    {
     "data": {
      "text/plain": [
       "\"this is really cool because it 's like a cool question if you have a project you can then go to Jupiter notebook and you 'll get the documentation to get it to get your own notebooks random images so that you can click on Jupiter notebook and it 's going to\""
      ]
     },
     "execution_count": 64,
     "metadata": {},
     "output_type": "execute_result"
    }
   ],
   "source": [
    "learn.beam_search('this is really cool',50,temperature=1, beam_sz=1)"
   ]
  },
  {
   "cell_type": "code",
   "execution_count": 65,
   "metadata": {
    "hidden": true
   },
   "outputs": [
    {
     "data": {
      "text/plain": [
       "'this is really cool . It \\'s interesting . What we \\'re going to do is look at a picture at this point , we \\'re going to look at some picture to make this picture a xxbos \" this really interesting work was the first one we \\'re going to look'"
      ]
     },
     "execution_count": 65,
     "metadata": {},
     "output_type": "execute_result"
    }
   ],
   "source": [
    "learn.beam_search('this is really cool',50,temperature=1, beam_sz=1)"
   ]
  },
  {
   "cell_type": "code",
   "execution_count": 66,
   "metadata": {
    "hidden": true
   },
   "outputs": [
    {
     "data": {
      "text/plain": [
       "\"this is really cool and very experimental . It 's like the other example . We have a very specific understanding of how to use these neural nets to do this . But it 's interesting because we 've got to start with a pre pre trained model that 's not\""
      ]
     },
     "execution_count": 66,
     "metadata": {},
     "output_type": "execute_result"
    }
   ],
   "source": [
    "learn.beam_search('this is really cool',50,temperature=.8, beam_sz=1)"
   ]
  },
  {
   "cell_type": "code",
   "execution_count": 67,
   "metadata": {
    "hidden": true
   },
   "outputs": [
    {
     "data": {
      "text/plain": [
       "\"this is really cool . It 's literally the most mature style of coding it 's that it 's not that there are no really rules in the world that it 's really good at recognizing the hard problem that 's pretty good so the Second San Francisco study for\""
      ]
     },
     "execution_count": 67,
     "metadata": {},
     "output_type": "execute_result"
    }
   ],
   "source": [
    "learn.beam_search('this is really cool',50,temperature=.8, beam_sz=1)"
   ]
  },
  {
   "cell_type": "code",
   "execution_count": 68,
   "metadata": {
    "hidden": true
   },
   "outputs": [
    {
     "data": {
      "text/plain": [
       "\"this is really cool . We 're going to do something else . We 're going to start with a pre - trained model which is called a language model . a language model is a model that learns to predict the next word of a sentence . Language model is\""
      ]
     },
     "execution_count": 68,
     "metadata": {},
     "output_type": "execute_result"
    }
   ],
   "source": [
    "learn.beam_search('this is really cool',50,temperature=.8, beam_sz=10)"
   ]
  },
  {
   "cell_type": "code",
   "execution_count": 69,
   "metadata": {
    "hidden": true
   },
   "outputs": [
    {
     "data": {
      "text/plain": [
       "\"this is really cool . We 're going to start with a pre - trained model which is called a language model . a language model is a model that learns to predict the next word of a sentence . To predict the next word of a sentence , we do n't\""
      ]
     },
     "execution_count": 69,
     "metadata": {},
     "output_type": "execute_result"
    }
   ],
   "source": [
    "learn.beam_search('this is really cool',50,temperature=.8, beam_sz=10)"
   ]
  },
  {
   "cell_type": "code",
   "execution_count": 70,
   "metadata": {
    "hidden": true
   },
   "outputs": [
    {
     "data": {
      "text/plain": [
       "\"learning rate for you and so this is not part of a neural net this is just like some input matrix multiply non - linearity matrix model play non - linearity okay we 're always going to do the same thing for movies and so here 's the matrix product of these\""
      ]
     },
     "execution_count": 70,
     "metadata": {},
     "output_type": "execute_result"
    }
   ],
   "source": [
    "learn.beam_search('learning rate',50,temperature=1, beam_sz=10)"
   ]
  },
  {
   "cell_type": "code",
   "execution_count": 71,
   "metadata": {
    "hidden": true
   },
   "outputs": [
    {
     "data": {
      "text/plain": [
       "\"learning rate of 0.5 what 's going on here . We 're going to start with a pre - trained model which is called a language model which is called a language model . a a language model is a model that learns to predict the next word of a sentence\""
      ]
     },
     "execution_count": 71,
     "metadata": {},
     "output_type": "execute_result"
    }
   ],
   "source": [
    "learn.beam_search('learning rate',50,temperature=1, beam_sz=10)"
   ]
  },
  {
   "cell_type": "code",
   "execution_count": 72,
   "metadata": {
    "hidden": true
   },
   "outputs": [
    {
     "data": {
      "text/plain": [
       "\"learning rate okay so we 're going to do the same thing for movie reviews . We 're going to start with a pre trained model which is called a language model is a model that learns to predict things in the next word of a sentence . So first\""
      ]
     },
     "execution_count": 72,
     "metadata": {},
     "output_type": "execute_result"
    }
   ],
   "source": [
    "learn.beam_search('learning rate',50,temperature=1, beam_sz=10)"
   ]
  },
  {
   "cell_type": "code",
   "execution_count": 73,
   "metadata": {
    "hidden": true
   },
   "outputs": [
    {
     "data": {
      "text/plain": [
       "\"learning rate okay so that 's what we 're going to do when we do n't understand the problem of learning rates if you have n't studied this last lesson one in PI and this is a fast AI this is the fast a i might be able to do\""
      ]
     },
     "execution_count": 73,
     "metadata": {},
     "output_type": "execute_result"
    }
   ],
   "source": [
    "learn.beam_search('learning rate',50,temperature=1, beam_sz=1)"
   ]
  },
  {
   "cell_type": "code",
   "execution_count": 74,
   "metadata": {
    "hidden": true
   },
   "outputs": [
    {
     "data": {
      "text/plain": [
       "\"learning rate to do something things for you so if you go to dark start fast AI this is the fast a i 'm going to do some of the stuff we 're going to do you have to make sure you to get a list of all of the urls\""
      ]
     },
     "execution_count": 74,
     "metadata": {},
     "output_type": "execute_result"
    }
   ],
   "source": [
    "learn.beam_search('learning rate',50,temperature=1, beam_sz=1)"
   ]
  },
  {
   "cell_type": "code",
   "execution_count": 75,
   "metadata": {
    "hidden": true
   },
   "outputs": [
    {
     "data": {
      "text/plain": [
       "'learning rate times okay so we \\'re going to start with a big list of them and so new to the that we \\'re going to do something else to make them sense that these are the steps that we created so that would be \" xxbos \" of start with zero'"
      ]
     },
     "execution_count": 75,
     "metadata": {},
     "output_type": "execute_result"
    }
   ],
   "source": [
    "learn.beam_search('learning rate',50,temperature=1, beam_sz=1)"
   ]
  },
  {
   "cell_type": "code",
   "execution_count": 76,
   "metadata": {
    "hidden": true
   },
   "outputs": [
    {
     "data": {
      "text/plain": [
       "\"learning rate times grad okay so the basic idea is that you can just pass it in here and go and have a look at the data set we 'll create we 're going to start with some path we 're going to learn some some path along the path and some\""
      ]
     },
     "execution_count": 76,
     "metadata": {},
     "output_type": "execute_result"
    }
   ],
   "source": [
    "learn.beam_search('learning rate',50,temperature=1, beam_sz=1)"
   ]
  },
  {
   "cell_type": "code",
   "execution_count": 77,
   "metadata": {
    "hidden": true
   },
   "outputs": [
    {
     "data": {
      "text/plain": [
       "\"learning rate okay so we 're going to start with some new applications we 're going to start with we 're going to start with some new vision which is going to be a more sophisticated you know these are going to do something very similar to what we 're doing but\""
      ]
     },
     "execution_count": 77,
     "metadata": {},
     "output_type": "execute_result"
    }
   ],
   "source": [
    "learn.beam_search('learning rate',50,temperature=1, beam_sz=1)"
   ]
  },
  {
   "cell_type": "code",
   "execution_count": 78,
   "metadata": {
    "hidden": true
   },
   "outputs": [
    {
     "data": {
      "text/plain": [
       "\"google is something which is called to create a learner for a convolutional neural network and it 's the same as a neural net that you can write it up and so forth and so it 's like okay that 's what a normal neural fully connected neural net is you know\""
      ]
     },
     "execution_count": 78,
     "metadata": {},
     "output_type": "execute_result"
    }
   ],
   "source": [
    "learn.beam_search('google is',50,temperature=1, beam_sz=1)"
   ]
  },
  {
   "cell_type": "code",
   "execution_count": 79,
   "metadata": {
    "hidden": true
   },
   "outputs": [
    {
     "data": {
      "text/plain": [
       "\"google is a really common piece of kind of thinking about seeing the sounds of the month so i do n't know if this is going to be a really it 's not that representative of how it would work but it 's it 's a lot of people have this specific\""
      ]
     },
     "execution_count": 79,
     "metadata": {},
     "output_type": "execute_result"
    }
   ],
   "source": [
    "learn.beam_search('google is',50,temperature=1, beam_sz=1)"
   ]
  },
  {
   "cell_type": "code",
   "execution_count": 80,
   "metadata": {
    "hidden": true
   },
   "outputs": [
    {
     "data": {
      "text/plain": [
       "\"google is something called by default and basically it 's a resnet 34 which is not a resnet resnet , it 's not dramatically larger but complex enough that it 's actually called a resnet densenet , it 's called a densenet . And like Densenet these are built a\""
      ]
     },
     "execution_count": 80,
     "metadata": {},
     "output_type": "execute_result"
    }
   ],
   "source": [
    "learn.beam_search('google is',50,temperature=1, beam_sz=1)"
   ]
  },
  {
   "cell_type": "code",
   "execution_count": 81,
   "metadata": {
    "hidden": true
   },
   "outputs": [
    {
     "data": {
      "text/plain": [
       "\"google is a really nice language for most of the text we use for movies . We 're not really there it 's very important to study a language model is a very useful model that is used in this language model . And it 's a language model of\""
      ]
     },
     "execution_count": 81,
     "metadata": {},
     "output_type": "execute_result"
    }
   ],
   "source": [
    "learn.beam_search('google is',50,temperature=1, beam_sz=1)"
   ]
  },
  {
   "cell_type": "code",
   "execution_count": 82,
   "metadata": {
    "hidden": true
   },
   "outputs": [
    {
     "data": {
      "text/plain": [
       "\"google is something that actually grabs the whole bunch of images and different labels of all of the videos so it 's really nice to see the images are not so i it 's really interesting because it turns out that it 's it 's it 's it 's giving a\""
      ]
     },
     "execution_count": 82,
     "metadata": {},
     "output_type": "execute_result"
    }
   ],
   "source": [
    "learn.beam_search('google',50,temperature=1, beam_sz=1)"
   ]
  },
  {
   "cell_type": "code",
   "execution_count": 83,
   "metadata": {
    "hidden": true
   },
   "outputs": [
    {
     "data": {
      "text/plain": [
       "\"google for movies it 's not going to appear at all as a a recurrent neural net but instead this is a little bit different back the next CNN and this is actually a pre - trained model that we 're using in a very interesting way to study them\""
      ]
     },
     "execution_count": 83,
     "metadata": {},
     "output_type": "execute_result"
    }
   ],
   "source": [
    "learn.beam_search('google',50,temperature=1, beam_sz=1)"
   ]
  },
  {
   "cell_type": "code",
   "execution_count": 84,
   "metadata": {
    "hidden": true
   },
   "outputs": [
    {
     "data": {
      "text/plain": [
       "\"google of this week i just created my data bunch so i can that for my training for the language model , we 're not using this language model because it 's not that we 're doing it 's not Python it 's not that there are no rules in\""
      ]
     },
     "execution_count": 84,
     "metadata": {},
     "output_type": "execute_result"
    }
   ],
   "source": [
    "learn.beam_search('google',50,temperature=1, beam_sz=1)"
   ]
  },
  {
   "cell_type": "markdown",
   "metadata": {
    "heading_collapsed": true
   },
   "source": [
    "## predict"
   ]
  },
  {
   "cell_type": "code",
   "execution_count": 85,
   "metadata": {
    "hidden": true
   },
   "outputs": [
    {
     "data": {
      "text/plain": [
       "\"this is really cool . It 's a really cool challenge . It 's really cool . We have a whole bunch of different approaches we 're going to do some different computation for it but we 're not going to do it in a very interesting way . We\""
      ]
     },
     "execution_count": 85,
     "metadata": {},
     "output_type": "execute_result"
    }
   ],
   "source": [
    "learn.predict('this is really cool',50,temperature=.3, )"
   ]
  },
  {
   "cell_type": "code",
   "execution_count": 86,
   "metadata": {
    "hidden": true
   },
   "outputs": [
    {
     "data": {
      "text/plain": [
       "\"this is really cool for deep learning because it 's click on square brackets something now that you know you know exactly what median values are and how do we weigh it up and so forth . Basically it 's a dumb way to do it for a couple of reasons .\""
      ]
     },
     "execution_count": 86,
     "metadata": {},
     "output_type": "execute_result"
    }
   ],
   "source": [
    "learn.predict('this is really cool',50,temperature=1, )"
   ]
  },
  {
   "cell_type": "code",
   "execution_count": 87,
   "metadata": {
    "hidden": true
   },
   "outputs": [
    {
     "data": {
      "text/plain": [
       "\"this is really cool because if you think about it it 's not just a pre - trained model that 's called but that 's not saying hey it 's a slash it 's a very fast AI better if you noticed like egg enter the something like this or need interesting documentation\""
      ]
     },
     "execution_count": 87,
     "metadata": {},
     "output_type": "execute_result"
    }
   ],
   "source": [
    "learn.predict('this is really cool',50,temperature=1, )"
   ]
  },
  {
   "cell_type": "code",
   "execution_count": 88,
   "metadata": {
    "hidden": true
   },
   "outputs": [
    {
     "data": {
      "text/plain": [
       "\"this is really cool and common like it 's particularly hard to see that these bits of code tend to be for real - world data sets it 's extremely easy for you to build a sentient brain but that 's pretty interesting and you need to see it again and make sure that\""
      ]
     },
     "execution_count": 88,
     "metadata": {},
     "output_type": "execute_result"
    }
   ],
   "source": [
    "learn.predict('this is really cool',50,temperature=1, )"
   ]
  },
  {
   "cell_type": "code",
   "execution_count": 89,
   "metadata": {
    "hidden": true
   },
   "outputs": [
    {
     "data": {
      "text/plain": [
       "\"this is really cool and very experimental when you see you do segmentation things with deep learning largely through these very readily but for now over half a few papers you know some kind of facial coding and abbreviations examples of your segmented neural networks and they 'll appear on the screen they 're\""
      ]
     },
     "execution_count": 89,
     "metadata": {},
     "output_type": "execute_result"
    }
   ],
   "source": [
    "learn.predict('this is really cool',50,temperature=1, )"
   ]
  },
  {
   "cell_type": "code",
   "execution_count": 90,
   "metadata": {
    "hidden": true
   },
   "outputs": [
    {
     "data": {
      "text/plain": [
       "\"learning rate finder okay so the first question then is what kind of data do you want to use so that you can see that 's where it 's going to grab the planet and then we 're going to take the log and that 's going to be the same number\""
      ]
     },
     "execution_count": 90,
     "metadata": {},
     "output_type": "execute_result"
    }
   ],
   "source": [
    "learn.predict('learning rate',50,temperature=1, min_p=.1)"
   ]
  },
  {
   "cell_type": "code",
   "execution_count": 91,
   "metadata": {
    "hidden": true
   },
   "outputs": [
    {
     "data": {
      "text/plain": [
       "\"learning rate okay so we 've got a little bit of coding and a bunch of classes to be like everything else so what is the trick - a few things do we have to do the same thing for segmentation we 're going to take the log of y and then\""
      ]
     },
     "execution_count": 91,
     "metadata": {},
     "output_type": "execute_result"
    }
   ],
   "source": [
    "learn.predict('learning rate',50,temperature=1, min_p=.01)"
   ]
  },
  {
   "cell_type": "code",
   "execution_count": 92,
   "metadata": {
    "hidden": true
   },
   "outputs": [
    {
     "data": {
      "text/plain": [
       "\"learning rate finder parameters that are used by multiplying them by activations okay so it 's kind of like we 're doing the same thing for movies but if it 's similar to the matrix multiplications play one of those weight matrices that 's the same as a linear function so this\""
      ]
     },
     "execution_count": 92,
     "metadata": {},
     "output_type": "execute_result"
    }
   ],
   "source": [
    "learn.predict('learning rate',50,temperature=1, min_p=.01)"
   ]
  },
  {
   "cell_type": "code",
   "execution_count": 93,
   "metadata": {
    "hidden": true
   },
   "outputs": [
    {
     "data": {
      "text/plain": [
       "\"learning rate times learning rate rate finder first or those activations i think that the learning rate for the early layers is smaller it 's going to move them around less because we think it was already pretty easy they needed a lot to build a model which can see what the\""
      ]
     },
     "execution_count": 93,
     "metadata": {},
     "output_type": "execute_result"
    }
   ],
   "source": [
    "learn.predict('learning rate',50,temperature=1, min_p=.01)"
   ]
  },
  {
   "cell_type": "code",
   "execution_count": 94,
   "metadata": {
    "hidden": true
   },
   "outputs": [
    {
     "data": {
      "text/plain": [
       "'google for some symbol we throw away some activation so if it is a resnet function you can replace it with some 4x4 and throw away some percentage of the input so that would grab the middle bit and it will add that learning rate and that would change the meaning'"
      ]
     },
     "execution_count": 94,
     "metadata": {},
     "output_type": "execute_result"
    }
   ],
   "source": [
    "learn.predict('google',50,temperature=1, min_p=.01)"
   ]
  },
  {
   "cell_type": "code",
   "execution_count": 95,
   "metadata": {
    "hidden": true
   },
   "outputs": [
    {
     "data": {
      "text/plain": [
       "\"google of them and then go back to here so we can run this cell and so we need a quick overview of how to create a data set using Google images so this is a little minimal thing we 'll learn about is a number of pictures of pictures\""
      ]
     },
     "execution_count": 95,
     "metadata": {},
     "output_type": "execute_result"
    }
   ],
   "source": [
    "learn.predict('google',50,temperature=1, min_p=.01)"
   ]
  },
  {
   "cell_type": "code",
   "execution_count": 96,
   "metadata": {
    "hidden": true
   },
   "outputs": [
    {
     "data": {
      "text/plain": [
       "\"google of them have to be in a single folder and i 're actually not going to create a special version of them but it 's the same basic idea for image classification that you could recognize with this idea this is a really nice idea for something very similar to\""
      ]
     },
     "execution_count": 96,
     "metadata": {},
     "output_type": "execute_result"
    }
   ],
   "source": [
    "learn.predict('google',50,temperature=1, min_p=.01)"
   ]
  },
  {
   "cell_type": "code",
   "execution_count": 97,
   "metadata": {
    "hidden": true
   },
   "outputs": [
    {
     "data": {
      "text/plain": [
       "\"google okay so now we 're going to do some computation and then we 're going to start with a pre trained model which means that we can use that to decide what normalization do you want to use if you 're wanting to transfer learning rates in fast AI\""
      ]
     },
     "execution_count": 97,
     "metadata": {},
     "output_type": "execute_result"
    }
   ],
   "source": [
    "learn.predict('google',50,temperature=1, min_p=.01)"
   ]
  },
  {
   "cell_type": "code",
   "execution_count": 98,
   "metadata": {
    "hidden": true
   },
   "outputs": [
    {
     "data": {
      "text/plain": [
       "\"google provides a really great way to study them so let 's try that let 's try that let 's try that let 's try one try try let 's try one cycle and try and try a little bit quickly and try and do the best one we 're doing\""
      ]
     },
     "execution_count": 98,
     "metadata": {},
     "output_type": "execute_result"
    }
   ],
   "source": [
    "learn.predict('google',50,temperature=1, min_p=.01)"
   ]
  },
  {
   "cell_type": "code",
   "execution_count": 99,
   "metadata": {
    "hidden": true
   },
   "outputs": [
    {
     "data": {
      "text/plain": [
       "\"google is a really common function for image classification and it 's an element - wise function so it 's a function that is applied to each input element of an input when it 's a input and that when it 's a function that is applied to each input element\""
      ]
     },
     "execution_count": 99,
     "metadata": {},
     "output_type": "execute_result"
    }
   ],
   "source": [
    "learn.predict('google',50,temperature=.5, min_p=.01)"
   ]
  },
  {
   "cell_type": "code",
   "execution_count": 100,
   "metadata": {
    "hidden": true
   },
   "outputs": [
    {
     "data": {
      "text/plain": [
       "\"google of them and then we 'll learn more about the specifics of these bits of code but for now we 've just got a list of all of the labels and so forth and so that 's what we 're using for planet okay so we 're going to take\""
      ]
     },
     "execution_count": 100,
     "metadata": {},
     "output_type": "execute_result"
    }
   ],
   "source": [
    "learn.predict('google',50,temperature=.5, min_p=.01)"
   ]
  },
  {
   "cell_type": "code",
   "execution_count": 101,
   "metadata": {
    "hidden": true
   },
   "outputs": [
    {
     "data": {
      "text/plain": [
       "\"google okay so this is the first time this has been shown before so i 've got my black bears URL so i can see like this one i 've got three different xxbos it 's so common right if you want to figure out how to do a good\""
      ]
     },
     "execution_count": 101,
     "metadata": {},
     "output_type": "execute_result"
    }
   ],
   "source": [
    "learn.predict('google',50,temperature=.5, min_p=.01)"
   ]
  },
  {
   "cell_type": "code",
   "execution_count": 102,
   "metadata": {
    "hidden": true
   },
   "outputs": [
    {
     "data": {
      "text/plain": [
       "\"google okay so let 's grab the first AI library and let 's start with black bears i 've already got my black bears URL so i click on this cell for black bears and i 'll run it so i 'll run this cell and so i can\""
      ]
     },
     "execution_count": 102,
     "metadata": {},
     "output_type": "execute_result"
    }
   ],
   "source": [
    "learn.predict('google',50,temperature=.5, min_p=.01)"
   ]
  },
  {
   "cell_type": "code",
   "execution_count": 103,
   "metadata": {
    "hidden": true
   },
   "outputs": [
    {
     "data": {
      "text/plain": [
       "\"google . What a waste of time , what a waste of computation . There 's a few tricks in this case , some of which he says is . But it 's interesting . He describes in quite a bit of detail about the architecture that\""
      ]
     },
     "execution_count": 103,
     "metadata": {},
     "output_type": "execute_result"
    }
   ],
   "source": [
    "learn.predict('google',50,temperature=.5, min_p=.01)"
   ]
  },
  {
   "cell_type": "code",
   "execution_count": 104,
   "metadata": {
    "hidden": true
   },
   "outputs": [
    {
     "data": {
      "text/plain": [
       "\"google okay so just like we can do that and then we can take a look at the data inside and so forth so we 're going to be learning exactly what that means and then we 're going to go back to the previous AI and choose open\""
      ]
     },
     "execution_count": 104,
     "metadata": {},
     "output_type": "execute_result"
    }
   ],
   "source": [
    "learn.predict('google',50,temperature=.5, min_p=.01)"
   ]
  },
  {
   "cell_type": "code",
   "execution_count": 105,
   "metadata": {
    "hidden": true
   },
   "outputs": [
    {
     "data": {
      "text/plain": [
       "\"google okay so what i do is i want to mention this idea of embedding matrices and so forth so i can create an embedding matrix and so i have to create a simple mini batch size of the input because that 's what i always does so i do n't\""
      ]
     },
     "execution_count": 105,
     "metadata": {},
     "output_type": "execute_result"
    }
   ],
   "source": [
    "learn.predict('google',50,temperature=.5, min_p=.01)"
   ]
  },
  {
   "cell_type": "code",
   "execution_count": 106,
   "metadata": {
    "hidden": true
   },
   "outputs": [
    {
     "data": {
      "text/plain": [
       "\"google okay so this is the first time this has actually got a whole bunch of pictures that i created so i 've got a list of image files that are in a folder and they 're labeled according to the folder name that they 're in trainer validation you can\""
      ]
     },
     "execution_count": 106,
     "metadata": {},
     "output_type": "execute_result"
    }
   ],
   "source": [
    "learn.predict('google',50,temperature=.8, min_p=.01)"
   ]
  },
  {
   "cell_type": "code",
   "execution_count": 107,
   "metadata": {
    "hidden": true
   },
   "outputs": [
    {
     "data": {
      "text/plain": [
       "\"google . What a waste of time , what a waste of computation . There 's a few choices to make this simple resnet conv what we 're doing with this new resnet . As we described , it takes the same back as i hoped to build\""
      ]
     },
     "execution_count": 107,
     "metadata": {},
     "output_type": "execute_result"
    }
   ],
   "source": [
    "learn.predict('google',50,temperature=.8, min_p=.01)"
   ]
  },
  {
   "cell_type": "code",
   "execution_count": 108,
   "metadata": {
    "hidden": true
   },
   "outputs": [
    {
     "data": {
      "text/plain": [
       "\"google . So what i do is we replace the resnet 34 by default with this new resnet architecture , and now the original pixels are the same color and so forth . So you can see that this resnet , they 're literally the same basic structure .\""
      ]
     },
     "execution_count": 108,
     "metadata": {},
     "output_type": "execute_result"
    }
   ],
   "source": [
    "learn.predict('google',50,temperature=.8, min_p=.01)"
   ]
  },
  {
   "cell_type": "code",
   "execution_count": 109,
   "metadata": {
    "hidden": true,
    "scrolled": true
   },
   "outputs": [
    {
     "data": {
      "text/plain": [
       "\"google has and we 've been getting some transforms here and so the first thing we have is one sequence in real life that 's almost never the case normally we 've certainly had a bunch of metadata here that we had earlier we can give a validation set of classes\""
      ]
     },
     "execution_count": 109,
     "metadata": {},
     "output_type": "execute_result"
    }
   ],
   "source": [
    "learn.predict('google',50,temperature=.8, min_p=.01)"
   ]
  },
  {
   "cell_type": "markdown",
   "metadata": {},
   "source": [
    "## predict2"
   ]
  },
  {
   "cell_type": "code",
   "execution_count": 114,
   "metadata": {},
   "outputs": [
    {
     "name": "stdout",
     "output_type": "stream",
     "text": [
      "1. xxbos Amazingly things have been really helpful if you have n't used : python \" is used to do this function is that no founder of some form of something called a resnet nonlinearities﹣particularly has a mathematical property called c and that is called column size transforms first of all\n",
      "\n",
      "2. the output of the input competitors of those and so what i do is i start with the matrix multiplied by a one hot encoded matrix and so this is a nice trained version of this function that is applied to all of these activations and then this makes me just\n",
      "\n",
      "3. this is one of the steepest gradients i would like okay now we can call it with this token called a \" a easily enough to calls it with the same name so here it is so let 's just say this is very designed so we just created some kind\n",
      "\n",
      "4. when you create your own Panama bus detector into that we have to deal with that noise and then decide how to create a sentient brain but something okay Yeah little dated yeah how do we do that and we can replace it with something which is just a\n",
      "\n",
      "5. i really want to save the whole thing of the whole journey which will take us two months to train our language model . That 's nice . Previously we 've got this picture from 7 by 7 to 4 by 4 . What at the very bottom find\n",
      "\n",
      "6. you can see i would want to go parameters training there close to Halloween so that was so you can see here 's another example of the pictures of this image file names with the same labels so before we 've got these top left pixels we 're going to take\n",
      "\n",
      "7. if you 're focusing on creating regularization for web apps people can not do the same basic idea of kind of argument that it shoots up and so forth it 's important to remember this lesson not from a CSV file that i used for this language text .\n",
      "\n",
      "8. i was a neuroscientist and said she found she works pretty well she 's describing finding creativity in the first week and perhaps finding her particularly those bits like the other nowadays find examples of these trouble but other settings she tends to make the most were wrong like in the giant\n",
      "\n",
      "9. what right so we 're going to grab a few small and high learning rates and we 're just going to pick the whole thing and then we 're going to go back to someone so now we can take a look at \" xxbos need to know everything is wrong\n"
     ]
    }
   ],
   "source": [
    "TEXTS = [\"xxbos\",\"the\",\"this\",\"when\",\"i really\", \"you can\",\"if\", \"i was\", \"what\"]\n",
    "N_WORDS = 50 \n",
    "print(\"\\n\\n\".join(str(i+1) + \". \" + learn.predict(TEXTS[i], N_WORDS,no_unk=True, temperature=1) for i in range(len(TEXTS))))"
   ]
  },
  {
   "cell_type": "code",
   "execution_count": 115,
   "metadata": {},
   "outputs": [
    {
     "name": "stdout",
     "output_type": "stream",
     "text": [
      "1. xxbos It 's the basic idea is that this is a resnet 34 and this is literally the same usual linear model concept from a neural net that you have to make . So in this case , a neural net has to do the same basic steps .\n",
      "\n",
      "2. the labels refer to the thing we 're about to see them in our computer you can see in the documentation these are the file names of the folder and is the thing that actually turns them into piped watch data sets this is the \" Teddy 's finder is\n",
      "\n",
      "3. this year i 'm not going to tell you about some of the details we 've learned about some people playing cricket and so we can learn how to do the useful thing for extracting learning but because the learning rate for the early layers is smaller it 's going to\n",
      "\n",
      "4. when you know this is a cat or a cat you know sometimes that results from law is a very interesting device in our house . So i keep guessing it 's probably a trick because if you have n't used an older style before it 's possible that you\n",
      "\n",
      "5. i really want to create a language model our model creating a learner that can download that to that data set which is called called verify text and what i 'm going to do is i want to create a black function in a very xxbos approach so what i do is\n",
      "\n",
      "6. you can vary your weights back to your previous weights and load them up with an embedding matrix and therefore i will do a matrix product by that weight matrix that 's pretty well okay so that 's what we do is we take the input and that 's what we 're\n",
      "\n",
      "7. if you create a special kind of sequential model called a sequentialex which will kind of creates a smooth version of this input matrix of matrix multiply and so forth and this is like okay that movie has John Travolta in it so how is that because this is\n",
      "\n",
      "8. i was probably not going to bother with this recurrent neural network but instead of copying a new model to doing another deeper learning at least for coders which is using a very very experimental approach for taking this and taking this of a very very hard learning rate for gary text\n",
      "\n",
      "9. what the neural networks work and so the main thing you have to do if you want to make sure that we 've going to do an image classification model is based on what the first image we 're going to do is we 're going to use a pre -\n"
     ]
    }
   ],
   "source": [
    "TEXTS = [\"xxbos\",\"the\",\"this\",\"when\",\"i really\", \"you can\",\"if\", \"i was\", \"what\"]\n",
    "N_WORDS = 50 \n",
    "print(\"\\n\\n\".join(str(i+1) + \". \" + learn.predict(TEXTS[i], N_WORDS,no_unk=True, temperature=.8) for i in range(len(TEXTS))))"
   ]
  },
  {
   "cell_type": "code",
   "execution_count": 119,
   "metadata": {},
   "outputs": [
    {
     "name": "stdout",
     "output_type": "stream",
     "text": [
      "1. xxbos \" really likely it was created by you know some Western European or American person they almost certainly used Latin one so if you just papi an encoding equals Latin one if you use file open in Python or pandas open or whatever that\n",
      "\n",
      "2. the names URL file name destination that you can write it using the pandas library if you have n't used pandas before it 's kind of the standard way of dealing with tabular data in in Python pretty much always appears on the PD namespace in this case\n",
      "\n",
      "3. this week i 've got the same set of activations here so i can go through it slowly okay so it 's a really nice challenge to try and run a cell and so the idea is that you can just experiment to do a lot more quickly with paid watch\n",
      "\n",
      "4. when you do n't know if you have n't used some GPU this will be used to seeing them but sometimes it 's not it 's kind of obvious it 's not it 's much like anything like this it 's not it 's much like some kind of coded\n",
      "\n",
      "5. i really want to save the whole thing from the data set and so we 're going to go back and say what we 're going to do is we 're going to do the same thing for movies so this is going to be a little bit harder to say what\n",
      "\n",
      "6. you can look at the data block API and say okay we 've got a list of image files that are in a folder we need to create a data bunch so that they all have to be in a folder and we 're not going to use the labels in\n",
      "\n",
      "7. if you 've got some predictions about how to get a sense of how to create a data set using Google images so that 's pretty cool because Adrian Jupiter or the URL has a name and a list of all of the labels in order to\n",
      "\n",
      "8. i was going to do something else to create a data bunch of tabular data from this as well and we 're going to do some some computation and some stuff so i would create something that kind of creates a slightly smooth version of this input matrix of activations and then\n",
      "\n",
      "9. what we 're going to do is we 're going to look at the same thing for segmentation so here 's the nice thing right we 're going to get this running using the same data block API and also let 's grab the whole data set which is going\n"
     ]
    }
   ],
   "source": [
    "TEXTS = [\"xxbos\",\"the\",\"this\",\"when\",\"i really\", \"you can\",\"if\", \"i was\", \"what\"]\n",
    "N_WORDS = 50 \n",
    "print(\"\\n\\n\".join(str(i+1) + \". \" + learn.predict(TEXTS[i], N_WORDS,no_unk=True, temperature=.5) for i in range(len(TEXTS))))"
   ]
  },
  {
   "cell_type": "code",
   "execution_count": 120,
   "metadata": {},
   "outputs": [
    {
     "name": "stdout",
     "output_type": "stream",
     "text": [
      "1. xxbos \" can go through the data block API and say okay we 've got a list of image files that are in a folder we need to create a validation set to create our data bunch so that 's what we 're using for planet okay so we 're\n",
      "\n",
      "2. the names URL file name destination that you can actually open up a notebook and you can just pass it in there and it 's going to download the data and say okay it 's not going to be an import matrix multiply non - linearity matrix multiply non -\n",
      "\n",
      "3. this case i 've been mentioning for a while that we 're going to look at some new vision for NLP and so i think that 's pretty cool because it 's it 's it 's it 's it 's it 's it 's giving a different learning rate to\n",
      "\n",
      "4. when you 're using transfer learning if you have n't studied the keyboard shortcut you can run it in the air so this is a really nice function that we 'll see in the workplace and that would give us a better result and it 's also going to provide a\n",
      "\n",
      "5. i really want to mention the idea of watching a text classification and and so the idea is that you can do this task in a very interesting way and make sure that the data set we 're going to do is going to be an it 's going to come from\n",
      "\n",
      "6. you can see that 's where it 's going to grab it from okay so it 's going to download that to some convenient path and then we 'll be going to take the log of y and then we 're going to take the log and that 's going to be\n",
      "\n",
      "7. if you want to predict things there 's no point predicting things that are in the middle of your training set you want to see it in the appropriate place so in our case the CSV is going to be a really convenient function to use and so this is\n",
      "\n",
      "8. i was going to do this task but i actually want to save the whole thing . But i 'm not going to re - implement the original resolution of your picture , so i 've got some input from this picture so i 'm going to do this task with\n",
      "\n",
      "9. what we 're doing so this is going to be a total waste of time for us because it 's not going to help you to build a sentient brain but that 's not our xxbos \" really cool and then Elena Harley who i featured one of her\n"
     ]
    }
   ],
   "source": [
    "TEXTS = [\"xxbos\",\"the\",\"this\",\"when\",\"i really\", \"you can\",\"if\", \"i was\", \"what\"]\n",
    "N_WORDS = 50 \n",
    "print(\"\\n\\n\".join(str(i+1) + \". \" + learn.predict(TEXTS[i], N_WORDS,no_unk=True, temperature=.3) for i in range(len(TEXTS))))"
   ]
  },
  {
   "cell_type": "markdown",
   "metadata": {
    "heading_collapsed": true
   },
   "source": [
    "# lm3"
   ]
  },
  {
   "cell_type": "code",
   "execution_count": 29,
   "metadata": {
    "hidden": true
   },
   "outputs": [],
   "source": [
    "learn.load(weights/'jhlm3_9');"
   ]
  },
  {
   "cell_type": "markdown",
   "metadata": {
    "heading_collapsed": true,
    "hidden": true
   },
   "source": [
    "## beam search"
   ]
  },
  {
   "cell_type": "code",
   "execution_count": 16,
   "metadata": {
    "hidden": true
   },
   "outputs": [
    {
     "data": {
      "text/plain": [
       "\"this is really cool if you want to predict things there 's no point predicting things that are in the middle of your training set you want to predict things in the future another interesting thing about it is the evaluation metric they provided is the root mean squared percent error so this is\""
      ]
     },
     "execution_count": 16,
     "metadata": {},
     "output_type": "execute_result"
    }
   ],
   "source": [
    "learn.beam_search('this is really cool',50,temperature=.3)"
   ]
  },
  {
   "cell_type": "code",
   "execution_count": 17,
   "metadata": {
    "hidden": true
   },
   "outputs": [
    {
     "data": {
      "text/plain": [
       "\"this is really cool that you can do this kind of stuff either in plant or in browser nowadays Henri plushie is built your city from space which he describes as creepy how accurate it is so here 's why i live which it figured out was in the United States\""
      ]
     },
     "execution_count": 17,
     "metadata": {},
     "output_type": "execute_result"
    }
   ],
   "source": [
    "learn.beam_search('this is really cool',50,temperature=.4)"
   ]
  },
  {
   "cell_type": "code",
   "execution_count": 18,
   "metadata": {
    "hidden": true
   },
   "outputs": [
    {
     "data": {
      "text/plain": [
       "\"this is really cool . If you have a , let 's say , 2x2 input with these are your pixel values ( a , b , c , d ) and you want to create a 4x4 , why not just do this ? So i 've now up scaled from\""
      ]
     },
     "execution_count": 18,
     "metadata": {},
     "output_type": "execute_result"
    }
   ],
   "source": [
    "learn.beam_search('this is really cool',50,temperature=.5)"
   ]
  },
  {
   "cell_type": "code",
   "execution_count": 22,
   "metadata": {
    "hidden": true
   },
   "outputs": [
    {
     "data": {
      "text/plain": [
       "\"this is really cool . If you look at the definition of res_block in the fast.ai code , you 'll see it looks a little bit different to this , and that 's because i 've created something called a mergelayer . a mergelayer is something which in the forward ( just skip\""
      ]
     },
     "execution_count": 22,
     "metadata": {},
     "output_type": "execute_result"
    }
   ],
   "source": [
    "learn.beam_search('this is really cool',50,temperature=.9)"
   ]
  },
  {
   "cell_type": "code",
   "execution_count": 25,
   "metadata": {
    "hidden": true
   },
   "outputs": [
    {
     "data": {
      "text/plain": [
       "\"this is really cool because as i mentioned before the evaluation metric is root mean squared percentage error and first i 'd either fastener iron or PI torch has a root mean squared percentage error loss function built in i do n't even know if such a loss function would work super well\""
      ]
     },
     "execution_count": 25,
     "metadata": {},
     "output_type": "execute_result"
    }
   ],
   "source": [
    "learn.beam_search('this is really cool',50,temperature=.99)"
   ]
  },
  {
   "cell_type": "code",
   "execution_count": 26,
   "metadata": {
    "hidden": true
   },
   "outputs": [
    {
     "data": {
      "text/plain": [
       "\"learning rate it can kick it out right it could actually make it worse which we really do n't want to happen okay so this this process is called using discriminative learning rates you wo n't find much online about it because i think we were kind of the first to use\""
      ]
     },
     "execution_count": 26,
     "metadata": {},
     "output_type": "execute_result"
    }
   ],
   "source": [
    "learn.beam_search('learning rate',50,temperature=.99)"
   ]
  },
  {
   "cell_type": "code",
   "execution_count": 28,
   "metadata": {
    "hidden": true
   },
   "outputs": [
    {
     "data": {
      "text/plain": [
       "'learning rate do useful things through creating software to make deep learning easier to use at a very high level through education such as the thing you are watching now through research which is where we spend a very large amount of our time which is researching to figure out how can'"
      ]
     },
     "execution_count": 28,
     "metadata": {},
     "output_type": "execute_result"
    }
   ],
   "source": [
    "learn.beam_search('learning rate',50,temperature=.99)"
   ]
  },
  {
   "cell_type": "code",
   "execution_count": 30,
   "metadata": {
    "hidden": true
   },
   "outputs": [
    {
     "data": {
      "text/plain": [
       "\"this is really cool to be - a into more different my they religions given interesting 1 happens data why so it we a really good vs. to list and do well they a clever activations data 've so this one the exploit data 've is if on set got were variable 100k .\""
      ]
     },
     "execution_count": 30,
     "metadata": {},
     "output_type": "execute_result"
    }
   ],
   "source": [
    "learn.beam_search('this is really cool',50,temperature=.3)"
   ]
  },
  {
   "cell_type": "markdown",
   "metadata": {
    "heading_collapsed": true,
    "hidden": true
   },
   "source": [
    "## beam size"
   ]
  },
  {
   "cell_type": "code",
   "execution_count": 29,
   "metadata": {
    "hidden": true
   },
   "outputs": [
    {
     "data": {
      "text/plain": [
       "\"this is really cool . If you have a , let 's say , 2x2 input with these are your pixel values ( a , b , c , d ) and you want to create a 4x4 , why not just do this ? So i 've now up scaled from\""
      ]
     },
     "execution_count": 29,
     "metadata": {},
     "output_type": "execute_result"
    }
   ],
   "source": [
    "learn.beam_search('this is really cool',50,temperature=.3, beam_sz=100)"
   ]
  },
  {
   "cell_type": "code",
   "execution_count": 30,
   "metadata": {
    "hidden": true
   },
   "outputs": [
    {
     "data": {
      "text/plain": [
       "\"this is really cool . If we compare it to last year 's state of the art on imdb , this is from The cove paper from mccann et al . at Salesforce Research . Their paper was 91.8 % accurate . And the best paper they could\""
      ]
     },
     "execution_count": 30,
     "metadata": {},
     "output_type": "execute_result"
    }
   ],
   "source": [
    "learn.beam_search('this is really cool',50,temperature=.3, beam_sz=1000)"
   ]
  },
  {
   "cell_type": "code",
   "execution_count": 31,
   "metadata": {
    "hidden": true
   },
   "outputs": [
    {
     "data": {
      "text/plain": [
       "\"this is really cool . If you have a , let 's say , 2x2 input with these are your pixel values ( a , b , c , d ) and you want to create a 4x4 , why not just do this ? So i 've now up scaled from\""
      ]
     },
     "execution_count": 31,
     "metadata": {},
     "output_type": "execute_result"
    }
   ],
   "source": [
    "learn.beam_search('this is really cool',50,temperature=.3, beam_sz=1000)"
   ]
  },
  {
   "cell_type": "code",
   "execution_count": 33,
   "metadata": {
    "hidden": true
   },
   "outputs": [
    {
     "data": {
      "text/plain": [
       "\"this is really cool that you can do this with what i 've learned it can also be intimidating intimidating to think like wow these people are doing amazing things but it 's important to realize that as a thousands of people during this course you know i 'm just picking out the kind\""
      ]
     },
     "execution_count": 33,
     "metadata": {},
     "output_type": "execute_result"
    }
   ],
   "source": [
    "learn.beam_search('this is really cool',50,temperature=.3, beam_sz=2000)"
   ]
  },
  {
   "cell_type": "code",
   "execution_count": 37,
   "metadata": {
    "hidden": true
   },
   "outputs": [
    {
     "data": {
      "text/plain": [
       "\"this is really cool because it 's pretty intimidating to put yourself out there and say like i 'm new to all this but here 's what i 've done and so example four things i thought was really interesting was figuring out who 's talking is it Ben Affleck or\""
      ]
     },
     "execution_count": 37,
     "metadata": {},
     "output_type": "execute_result"
    }
   ],
   "source": [
    "learn.beam_search('this is really cool',50,temperature=.4, beam_sz=2000)"
   ]
  },
  {
   "cell_type": "code",
   "execution_count": 39,
   "metadata": {
    "hidden": true
   },
   "outputs": [
    {
     "data": {
      "text/plain": [
       "\"this is really cool . If you have a , let 's say , 2x2 input with these are your pixel values ( a , b , c , d ) and you want to create a 4x4 , why not just do this ? So i 've now up scaled from 2 by 2 to 4 by 4 . i have n't done any interesting computation , but now on top of that , i could just do a stride 1 convolution , and now i have done some computation . An upsample , this is called nearest neighbor interpolation\""
      ]
     },
     "execution_count": 39,
     "metadata": {},
     "output_type": "execute_result"
    }
   ],
   "source": [
    "learn.beam_search('this is really cool',100,temperature=.4, beam_sz=2000)"
   ]
  },
  {
   "cell_type": "code",
   "execution_count": 52,
   "metadata": {
    "hidden": true
   },
   "outputs": [
    {
     "data": {
      "text/plain": [
       "'this is really cool and really nice to Simon Ellison and Natalie down they created a cougar or not web app which talks to a PI torch model so examples of web apps people have built during the week Edward Ross built the what car is that'"
      ]
     },
     "execution_count": 52,
     "metadata": {},
     "output_type": "execute_result"
    }
   ],
   "source": [
    "learn.beam_search('this is really cool',50,temperature=1, beam_sz=1)"
   ]
  },
  {
   "cell_type": "code",
   "execution_count": 55,
   "metadata": {
    "hidden": true
   },
   "outputs": [
    {
     "data": {
      "text/plain": [
       "\"this is really cool that you can do this kind of stuff either in plant or in browser nowadays Henri plushie is built your city from space which he describes as creepy how accurate it is so here 's why i live which it 's going to take you a long way it\""
      ]
     },
     "execution_count": 55,
     "metadata": {},
     "output_type": "execute_result"
    }
   ],
   "source": [
    "learn.beam_search('this is really cool',50,temperature=1, beam_sz=1)"
   ]
  },
  {
   "cell_type": "code",
   "execution_count": 56,
   "metadata": {
    "hidden": true
   },
   "outputs": [
    {
     "data": {
      "text/plain": [
       "\"this is really cool that if can do with this to do something for your particular application you would then go you know to you can see out how to do something for your particular application you would then go you know to look at text and vision and so forth and that 's\""
      ]
     },
     "execution_count": 56,
     "metadata": {},
     "output_type": "execute_result"
    }
   ],
   "source": [
    "learn.beam_search('this is really cool',50,temperature=1, beam_sz=1)"
   ]
  },
  {
   "cell_type": "code",
   "execution_count": 59,
   "metadata": {
    "hidden": true
   },
   "outputs": [
    {
     "data": {
      "text/plain": [
       "\"this is really cool because it can kind of fade up a bit of a lot of naysayers for this lesson one but if you 're not learning about you can see out this part of the model and it 's going to be a lot of material okay but if you 're not\""
      ]
     },
     "execution_count": 59,
     "metadata": {},
     "output_type": "execute_result"
    }
   ],
   "source": [
    "learn.beam_search('this is really cool',50,temperature=.8, beam_sz=1)"
   ]
  },
  {
   "cell_type": "code",
   "execution_count": 65,
   "metadata": {
    "hidden": true
   },
   "outputs": [
    {
     "data": {
      "text/plain": [
       "'this is really cool because there \\'s a much a difference between Wikipedia and random words than there is between like Wikipedia and reddit . So it kind of gets you xxbos \" the most famous academic data set for object detection we can create we create DATA set from'"
      ]
     },
     "execution_count": 65,
     "metadata": {},
     "output_type": "execute_result"
    }
   ],
   "source": [
    "learn.beam_search('this is really cool',50,temperature=.8, beam_sz=1)"
   ]
  },
  {
   "cell_type": "code",
   "execution_count": 67,
   "metadata": {
    "hidden": true
   },
   "outputs": [
    {
     "data": {
      "text/plain": [
       "\"this is really cool . How do you do computation which increases the grid size ? Well , we do n't have a way to do that in our current bag of tricks . We can use a stride one conv to do computation and keeps grid size or a stride\""
      ]
     },
     "execution_count": 67,
     "metadata": {},
     "output_type": "execute_result"
    }
   ],
   "source": [
    "learn.beam_search('this is really cool',50,temperature=.8, beam_sz=10)"
   ]
  },
  {
   "cell_type": "code",
   "execution_count": 72,
   "metadata": {
    "hidden": true
   },
   "outputs": [
    {
     "data": {
      "text/plain": [
       "\"this is really cool . If we compare it to last year 's state of the art on imdb , this is from The cove paper from mccann et al . at Salesforce Research . Their paper was 91.8 % accurate . And the best paper they could\""
      ]
     },
     "execution_count": 72,
     "metadata": {},
     "output_type": "execute_result"
    }
   ],
   "source": [
    "learn.beam_search('this is really cool',50,temperature=.8, beam_sz=10)"
   ]
  },
  {
   "cell_type": "code",
   "execution_count": 73,
   "metadata": {
    "hidden": true
   },
   "outputs": [
    {
     "data": {
      "text/plain": [
       "\"learning rate finder graph yeah i mean it 's a great question yeah i mean the short answer is no is because this is still a bit more artisinal than i would like you know as you can kind of see i 've been kind of saying how i read this learning\""
      ]
     },
     "execution_count": 73,
     "metadata": {},
     "output_type": "execute_result"
    }
   ],
   "source": [
    "learn.beam_search('learning rate',50,temperature=1, beam_sz=10)"
   ]
  },
  {
   "cell_type": "code",
   "execution_count": 74,
   "metadata": {
    "hidden": true
   },
   "outputs": [
    {
     "data": {
      "text/plain": [
       "\"learning rate okay so if you go seven times to a bunch of times then you end up with something that 's a good size yeah all of these details we are going to we are going to get to but the key thing is i wanted to get you training a\""
      ]
     },
     "execution_count": 74,
     "metadata": {},
     "output_type": "execute_result"
    }
   ],
   "source": [
    "learn.beam_search('learning rate',50,temperature=1, beam_sz=10)"
   ]
  },
  {
   "cell_type": "code",
   "execution_count": 75,
   "metadata": {
    "hidden": true
   },
   "outputs": [
    {
     "data": {
      "text/plain": [
       "\"learning rate for the first layer group one in egg four for the second one day neck three for the third so now if you go back and look at the way that we 're training hopefully you 'll see that this makes a lot of sense this divided by three thing\""
      ]
     },
     "execution_count": 75,
     "metadata": {},
     "output_type": "execute_result"
    }
   ],
   "source": [
    "learn.beam_search('learning rate',50,temperature=1, beam_sz=10)"
   ]
  },
  {
   "cell_type": "code",
   "execution_count": 79,
   "metadata": {
    "hidden": true
   },
   "outputs": [
    {
     "data": {
      "text/plain": [
       "\"learning rate okay so now you can have a model called the data bunch and we can grab a batch of data at random and use that to decide what normalization stats to use . That 's a good good idea if you 're not using a pre - trained model\""
      ]
     },
     "execution_count": 79,
     "metadata": {},
     "output_type": "execute_result"
    }
   ],
   "source": [
    "learn.beam_search('learning rate',50,temperature=1, beam_sz=1)"
   ]
  },
  {
   "cell_type": "code",
   "execution_count": 80,
   "metadata": {
    "hidden": true
   },
   "outputs": [
    {
     "data": {
      "text/plain": [
       "\"learning rate finder are you know it 's a bit of learning rates and so it 's a bit more artisinal than i would like you know as you can kind of see i 've been kind of saying how i read this learning rate graph depends a bit on what stage\""
      ]
     },
     "execution_count": 80,
     "metadata": {},
     "output_type": "execute_result"
    }
   ],
   "source": [
    "learn.beam_search('learning rate',50,temperature=1, beam_sz=1)"
   ]
  },
  {
   "cell_type": "code",
   "execution_count": 81,
   "metadata": {
    "hidden": true
   },
   "outputs": [
    {
     "data": {
      "text/plain": [
       "\"learning rate times the same thing again you 've got an accuracy threshold point - i 've got a f beta threshold point - i can pass them both in his metrics and i can then go those two steps together just in a single number and that is called the accuracy\""
      ]
     },
     "execution_count": 81,
     "metadata": {},
     "output_type": "execute_result"
    }
   ],
   "source": [
    "learn.beam_search('learning rate',50,temperature=1, beam_sz=1)"
   ]
  },
  {
   "cell_type": "code",
   "execution_count": 82,
   "metadata": {
    "hidden": true
   },
   "outputs": [
    {
     "data": {
      "text/plain": [
       "'learning rate times parameters i \\'ve got a new capability i did n\\'t have before and i kind of get to see a lot of the kind of tradecraft of xxbos \" the most famous academic data set for object detection we can create it using the same process grab a list'"
      ]
     },
     "execution_count": 82,
     "metadata": {},
     "output_type": "execute_result"
    }
   ],
   "source": [
    "learn.beam_search('learning rate',50,temperature=1, beam_sz=1)"
   ]
  },
  {
   "cell_type": "code",
   "execution_count": 84,
   "metadata": {
    "hidden": true
   },
   "outputs": [
    {
     "data": {
      "text/plain": [
       "\"learning rate okay so this is going to be a bit of data we 're going to learn about shortly and what does it mean to normalize the images so normalizing the images we 're going to be learning more about later in the course but in short it means that the\""
      ]
     },
     "execution_count": 84,
     "metadata": {},
     "output_type": "execute_result"
    }
   ],
   "source": [
    "learn.beam_search('learning rate',50,temperature=1, beam_sz=1)"
   ]
  },
  {
   "cell_type": "code",
   "execution_count": 85,
   "metadata": {
    "hidden": true
   },
   "outputs": [
    {
     "data": {
      "text/plain": [
       "\"google is that there are 37 possible categories and so one thing to the other is that the classes that we want to create is the main reason i mentioned this for you is that so that you can now click the download button and it 'll download the predictions which is\""
      ]
     },
     "execution_count": 85,
     "metadata": {},
     "output_type": "execute_result"
    }
   ],
   "source": [
    "learn.beam_search('google is',50,temperature=1, beam_sz=1)"
   ]
  },
  {
   "cell_type": "code",
   "execution_count": 86,
   "metadata": {
    "hidden": true
   },
   "outputs": [
    {
     "data": {
      "text/plain": [
       "\"google is the story of kate ' , ' ( potente ) , an intensely unlikeable bourgeois bitch that finds herself somehow sleeping through the noise of the last been done before but there is something about the way its done here that lifts it up from the rest of the pack\""
      ]
     },
     "execution_count": 86,
     "metadata": {},
     "output_type": "execute_result"
    }
   ],
   "source": [
    "learn.beam_search('google is',50,temperature=1, beam_sz=1)"
   ]
  },
  {
   "cell_type": "code",
   "execution_count": 87,
   "metadata": {
    "hidden": true
   },
   "outputs": [
    {
     "data": {
      "text/plain": [
       "\"google is that there are no really important topics in the building that are seen so far because there 's lots of places where you have to pass in functions and you very often want to pass in a slightly customized version of a function so that here 's how you do\""
      ]
     },
     "execution_count": 87,
     "metadata": {},
     "output_type": "execute_result"
    }
   ],
   "source": [
    "learn.beam_search('google is',50,temperature=1, beam_sz=1)"
   ]
  },
  {
   "cell_type": "code",
   "execution_count": 88,
   "metadata": {
    "hidden": true
   },
   "outputs": [
    {
     "data": {
      "text/plain": [
       "'google is that there is kind of a data set called cambered which we can download and they have already got a whole bunch of images and segment masks prepared for us which is pretty cool and remember pretty much all of the data sets that we have provided kind of inbuilt'"
      ]
     },
     "execution_count": 88,
     "metadata": {},
     "output_type": "execute_result"
    }
   ],
   "source": [
    "learn.beam_search('google is',50,temperature=1, beam_sz=1)"
   ]
  },
  {
   "cell_type": "code",
   "execution_count": 89,
   "metadata": {
    "hidden": true
   },
   "outputs": [
    {
     "data": {
      "text/plain": [
       "\"google so you can see that 's in the building is something which can take you a long way it really is to get your data to create your own classifier with your own images so it 's going to be a lot like last week 's tech detector but it\""
      ]
     },
     "execution_count": 89,
     "metadata": {},
     "output_type": "execute_result"
    }
   ],
   "source": [
    "learn.beam_search('google',50,temperature=1, beam_sz=1)"
   ]
  },
  {
   "cell_type": "code",
   "execution_count": 90,
   "metadata": {
    "hidden": true
   },
   "outputs": [
    {
     "data": {
      "text/plain": [
       "'google model that was created by you know some Western European or American person they almost certainly used Latin one so if you just papi an encoding equals Latin one if you use file open in Python or pandas open or whatever that will generally'"
      ]
     },
     "execution_count": 90,
     "metadata": {},
     "output_type": "execute_result"
    }
   ],
   "source": [
    "learn.beam_search('google',50,temperature=1, beam_sz=1)"
   ]
  },
  {
   "cell_type": "code",
   "execution_count": 91,
   "metadata": {
    "hidden": true
   },
   "outputs": [
    {
     "data": {
      "text/plain": [
       "\"google images that are in the folder they have Suffolk 's we 're going to randomly split out a validation set with 20 % of the data we 're going to create data sets from that which were then going to transform with these transformations and then we 're going\""
      ]
     },
     "execution_count": 91,
     "metadata": {},
     "output_type": "execute_result"
    }
   ],
   "source": [
    "learn.beam_search('google',50,temperature=1, beam_sz=1)"
   ]
  },
  {
   "cell_type": "markdown",
   "metadata": {
    "heading_collapsed": true,
    "hidden": true
   },
   "source": [
    "## predict"
   ]
  },
  {
   "cell_type": "code",
   "execution_count": 93,
   "metadata": {
    "hidden": true
   },
   "outputs": [
    {
     "data": {
      "text/plain": [
       "\"this is really cool that you can do this with what i 've learned it can also be intimidating to think like wow these people are doing amazing things but it 's important to realize that as a thousands of people during this course you know i 'm just picking out the kind of\""
      ]
     },
     "execution_count": 93,
     "metadata": {},
     "output_type": "execute_result"
    }
   ],
   "source": [
    "learn.predict('this is really cool',50,temperature=.3, )"
   ]
  },
  {
   "cell_type": "code",
   "execution_count": 97,
   "metadata": {
    "hidden": true
   },
   "outputs": [
    {
     "data": {
      "text/plain": [
       "\"this is really cool that you can do this after a few minutes but if you have a few images of five it 's a bit tricky that you can try itself on your own hands okay so in this case we can see we have one layer there 's a few different pieces\""
      ]
     },
     "execution_count": 97,
     "metadata": {},
     "output_type": "execute_result"
    }
   ],
   "source": [
    "learn.predict('this is really cool',50,temperature=1, )"
   ]
  },
  {
   "cell_type": "code",
   "execution_count": 98,
   "metadata": {
    "hidden": true
   },
   "outputs": [
    {
     "data": {
      "text/plain": [
       "\"this is really cool and i 'm not quite sure how the blocks are meant to be used do they have to be in a certain order is there any other library that uses this type of programming that i could look at yes they do have to be in a certain order they\""
      ]
     },
     "execution_count": 98,
     "metadata": {},
     "output_type": "execute_result"
    }
   ],
   "source": [
    "learn.predict('this is really cool',50,temperature=1, )"
   ]
  },
  {
   "cell_type": "code",
   "execution_count": 100,
   "metadata": {
    "hidden": true
   },
   "outputs": [
    {
     "data": {
      "text/plain": [
       "\"this is really cool that to give you a sense of what 's going on but before we do we have to finish off last week 's discussion of regularization and so we were talking about regularization specifically in the context of the tabular learner because the tabular learner this was the xxbos should\""
      ]
     },
     "execution_count": 100,
     "metadata": {},
     "output_type": "execute_result"
    }
   ],
   "source": [
    "learn.predict('this is really cool',50,temperature=1, )"
   ]
  },
  {
   "cell_type": "code",
   "execution_count": 101,
   "metadata": {
    "hidden": true
   },
   "outputs": [
    {
     "data": {
      "text/plain": [
       "\"this is really cool starting with Wikitext 103 . This 's a really useful language model , because it 's particularly do training ( label_for_lm ) \\n  So xxbos okay so welcome practical deep learning for coders less than one it 's kind of lesson two because there 's a lesson\""
      ]
     },
     "execution_count": 101,
     "metadata": {},
     "output_type": "execute_result"
    }
   ],
   "source": [
    "learn.predict('this is really cool',50,temperature=1, )"
   ]
  },
  {
   "cell_type": "code",
   "execution_count": 110,
   "metadata": {
    "hidden": true
   },
   "outputs": [
    {
     "data": {
      "text/plain": [
       "\"learning rate times the same thing that we 're specifically about the same mean and about the same standard deviation so there 's a normalized function that we can use to normalize our data bunch in that way okay rich or come and ask the question thanks what is the function do\""
      ]
     },
     "execution_count": 110,
     "metadata": {},
     "output_type": "execute_result"
    }
   ],
   "source": [
    "learn.predict('learning rate',50,temperature=1, min_p=.1)"
   ]
  },
  {
   "cell_type": "code",
   "execution_count": 112,
   "metadata": {
    "hidden": true
   },
   "outputs": [
    {
     "data": {
      "text/plain": [
       "'learning rate okay so i would strongly suggest you follow those tips and if you do have a question about using one of these platforms please use these discussions not some other topic that you create because this way people that are involved in these platforms will be able to see it'"
      ]
     },
     "execution_count": 112,
     "metadata": {},
     "output_type": "execute_result"
    }
   ],
   "source": [
    "learn.predict('learning rate',50,temperature=1, min_p=.01)"
   ]
  },
  {
   "cell_type": "code",
   "execution_count": 113,
   "metadata": {
    "hidden": true
   },
   "outputs": [
    {
     "data": {
      "text/plain": [
       "\"learning rate today . We 're going to then look at tabular data and collaborative filtering which are both super useful applications . Then we 're going to take a complete u - turn . We 're going to take that collaborative filtering example and dive deeply into it\""
      ]
     },
     "execution_count": 113,
     "metadata": {},
     "output_type": "execute_result"
    }
   ],
   "source": [
    "learn.predict('learning rate',50,temperature=1, min_p=.01)"
   ]
  },
  {
   "cell_type": "code",
   "execution_count": 115,
   "metadata": {
    "hidden": true
   },
   "outputs": [
    {
     "data": {
      "text/plain": [
       "'learning rate today . We have a way to do that in our current bag of tricks . We can use a stride one conv to do computation and keeps grid size or a stride 2 conv to do computation and halve the grid size . So how do'"
      ]
     },
     "execution_count": 115,
     "metadata": {},
     "output_type": "execute_result"
    }
   ],
   "source": [
    "learn.predict('learning rate',50,temperature=1, min_p=.01)"
   ]
  },
  {
   "cell_type": "code",
   "execution_count": 116,
   "metadata": {
    "hidden": true
   },
   "outputs": [
    {
     "data": {
      "text/plain": [
       "\"google images of digits like this , you just add a bit of random padding . So i 'll use the random padding function which actually returns two transforms ; the bit that does the padding and the bit that does the random crop . So you have to\""
      ]
     },
     "execution_count": 116,
     "metadata": {},
     "output_type": "execute_result"
    }
   ],
   "source": [
    "learn.predict('google',50,temperature=1, min_p=.01)"
   ]
  },
  {
   "cell_type": "code",
   "execution_count": 117,
   "metadata": {
    "hidden": true
   },
   "outputs": [
    {
     "data": {
      "text/plain": [
       "\"google welcome to lesson two where we 're going to be taking a deeper dive into computer vision applications and taking some of the amazing stuff that you 've all been doing during the week and going even further so let 's take a look before we do a reminder that\""
      ]
     },
     "execution_count": 117,
     "metadata": {},
     "output_type": "execute_result"
    }
   ],
   "source": [
    "learn.predict('google',50,temperature=1, min_p=.01)"
   ]
  },
  {
   "cell_type": "code",
   "execution_count": 118,
   "metadata": {
    "hidden": true
   },
   "outputs": [
    {
     "data": {
      "text/plain": [
       "\"google ones and zeros to actually tell you i like this one i do n't like that one . That 's clearly not enough information to learn , basically , how to speak English﹣how to speak English well enough to recognize they liked this or they did n't\""
      ]
     },
     "execution_count": 118,
     "metadata": {},
     "output_type": "execute_result"
    }
   ],
   "source": [
    "learn.predict('google',50,temperature=1, min_p=.01)"
   ]
  },
  {
   "cell_type": "code",
   "execution_count": 119,
   "metadata": {
    "hidden": true
   },
   "outputs": [
    {
     "data": {
      "text/plain": [
       "\"google images that are actually on the Play Store and on the Apple App Store , so that 's pretty cool . First ones i know of that are on the App Store 's that are using fast.ai . Let me also\""
      ]
     },
     "execution_count": 119,
     "metadata": {},
     "output_type": "execute_result"
    }
   ],
   "source": [
    "learn.predict('google',50,temperature=1, min_p=.01)"
   ]
  },
  {
   "cell_type": "code",
   "execution_count": 120,
   "metadata": {
    "hidden": true
   },
   "outputs": [
    {
     "data": {
      "text/plain": [
       "\"google provides a python - based download at all which you can use so we 're going to download them from a folder called valid and a y 's will be the labels so if we do the training set we 're going to be making images square shapes in part\""
      ]
     },
     "execution_count": 120,
     "metadata": {},
     "output_type": "execute_result"
    }
   ],
   "source": [
    "learn.predict('google',50,temperature=1, min_p=.01)"
   ]
  },
  {
   "cell_type": "markdown",
   "metadata": {
    "heading_collapsed": true,
    "hidden": true
   },
   "source": [
    "## predict2"
   ]
  },
  {
   "cell_type": "code",
   "execution_count": 122,
   "metadata": {
    "hidden": true
   },
   "outputs": [
    {
     "name": "stdout",
     "output_type": "stream",
     "text": [
      "1. xxbos Welcome to lesson 7 ! The last lesson of part 1 . This will be a pretty intense lesson . Do n't let that bother you because partly what i want to do is to give you enough things to think about to keep you busy until part 2 . In fact , some of the things we cover today , i 'm not going to tell you about some of the details . i 'll just point out a few things . i 'll say like okay that we 're not talking about yet\n",
      "2. the classes of the test set so we 're going to do something very similar here for example if we create a little small subset of a data for playing with this is a really good idea when you start with a new data set so i 've just grabbed two thousand ids at random okay and then i 'm just going to grab a little training set in a little test set half and half of those 2,000 ids and it 's going to grab five columns okay and then we can just play around with this nice and easy\n",
      "3. this nice explanation of how to create a data set using Google images so that was definitely an inspiration for some of the techniques we use here so thank you to Adrian and you should definitely check out his site it 's a really it 's full of lots of good resources so so here we are so we are going to try to create a teddy bear detector thanks we 're going to try and make a teddy bear detector and we 're going to try and separate teddy bears from black bears from grizzly bears now this\n",
      "4. when you 've got to play around with different dropout values for each of your layers to decide so in pretty much every fast AI learner there 's a parameter called p 's PS which will be the p - value for the dropout for each layer so you can just pass in a list or you can pass it an int and it 'll create a list with that value everywhere sometimes it 's a little different for CNN for example it actually if you pass in an int it will use that for the last layer\n",
      "5. i really want to mention this to confirm that there is something called regularization and you can reduce the regularization to avoid underfitting . So for now , just know that by using a number lower than one is because when i first tried to run this , i was under fitting . So if you reduced that number , then it will avoid under fitting . Okay . so we 've got a learner , we can lr_find and looks pretty standard : Then we can fit one cycle . What 's happening here is we\n",
      "6. you can refactor that like so : Keep refactoring your architectures if you 're trying novel architectures because you 'll make less mistakes . Very few people do this . Most research code you look at is clunky as all heck and people often make mistakes in that way , so do n't do that . You 're all coders , so use your coding skills to make life easier . Okay , so there 's my resnet - ish architecture . lr_find as usual , fit for a while , and i get 99.54 % .\n",
      "7. if you want to see a much more useful treatment of jewish tradition at odds with society . xxbos creep is the story of kate ' , ' ( potente ) , an intensely unlikeable bourgeois bitch that finds herself somehow sleeping through the noise of the last been done before but there is something about the way its done here that lifts it up from the rest of the pack . \\ \n",
      "  \\ \n",
      "  8 out of 10 for dinosaur / monster lovers . xxbos i rented this movie to see how the sony camera shoots , ( i\n",
      "8. i was a lot \\ \\ \\ 's the little performance is not only . the excellent for the most of course , with the minutes night on the into movies ( ! , in the movie its the first ever ! \\ \n",
      "  \\ \n",
      "  a \\ ' \n",
      "  Now i ' , xxbos \" can certainly create something that kind of creates a slightly you know creates a smooth version of this finds the sharpest negative slope and picked that you would probably be fine nearly all the time but then for you know these kinds of ones you\n",
      "9. what 's your architecture so as i learned there are lots of different ways of constructing a convolutional neural network but for now the most imp xxbos um welcome everybody to lesson 5 and so we have officially peaked and everything is down here from here as of halfway through the last lesson we started with computer vision because it 's the most mature kind of out - of - the - box ready to use deep learning application it 's something which if you 're not using deep learning you wo n't be getting good results so the difference you\n"
     ]
    }
   ],
   "source": [
    "TEXTS = [\"xxbos\",\"the\",\"this\",\"when\",\"i really\", \"you can\",\"if\", \"i was\", \"what\"]\n",
    "N_WORDS = 100 \n",
    "print(\"\\n\\n\".join(str(i+1) + \". \" + learn.predict(TEXTS[i], N_WORDS,no_unk=True, temperature=1,min_p=.0001) for i in range(len(TEXTS))))"
   ]
  },
  {
   "cell_type": "code",
   "execution_count": 123,
   "metadata": {
    "hidden": true
   },
   "outputs": [
    {
     "name": "stdout",
     "output_type": "stream",
     "text": [
      "1. xxbos \" the learning rate finder graph yeah i mean it 's a great question yeah i mean the short answer is no and the reason the answer is no is because this is still a bit more artisinal than i would like you know as you can kind of see i 've been kind of saying how i read this learning rate graph depends a bit on what stage i 'm at and kind of what the shape of it is i guess like the when you 're just training the head so before you unfreeze it pretty much always\n",
      "\n",
      "2. the best projection that separates out those classes and so the goal here is to you know help me visually inspect and quickly find a bunch of things that i can use to label so like they 're the kind of the the key features and it 's done a good job you can see down here we 've now got a whole bunch of sides which i can now grab because i was having a lot of trouble finding them before and it 's always worth double - checking it 's kind of interesting to see how the neural\n",
      "\n",
      "3. this case i 've calculated these activations using excels offset function which is an array look up right it says find the first row of this so this is doing it as an array lookup so this version is identical to this version but obviously it 's much less memory intensive and much faster because i do n't actually create the one hot encoded matrix and i do n't actually do a matrix multiply because that matrix multiply is nearly all multiplying by zero which is a total waste of time so in other words multiplying by a one handed matrix\n",
      "\n",
      "4. when you set that thread to watching and notifications you 're not going to be bugged by anybody else except stuff that we think you need to know for the course and it 's got all the official information about how to get set up on each platform please note a lot of people post all kinds of other tidbits about how they 've set up things on previous solutions or previous courses or other places i do n't recommend you use those because these are the ones that we 're testing everyday and that the folks involved in these platforms\n",
      "\n",
      "5. i really want to mention this in the window that appears so i 've got Windows so i go ctrl shift j paste in that code so this is a javascript console for those of you you have n't done in javascript before i hit enter and it downloads my file for me so i would call this Teddy 's dot txt and press save okay so i now have a file of Teddy 's or urls of Teddy 's so then i would repeat that process for black bears and for brown bears since that 's a\n",
      "\n",
      "6. you can write a slice so you can write slice for example one a neg three with a single number or you can write slice with two numbers which of those men in the first case just using a single number means every layer gets the same learning rate so you 're not using discriminative learning rates if you pass a single number to slice it means the final layers get a learning rate of whatever you wrote down of whatever you wrote down one e neck 3 and then all the other layers get the same learning rate which xxbos \"\n",
      "\n",
      "7. if you want to see a much more useful treatment of jewish tradition at odds with society . xxbos creep is the story of kate ' , ' ( potente ) , an intensely unlikeable bourgeois bitch that finds herself somehow sleeping through the noise of the last been done before but there is something about the way its done here that lifts it up from the rest of the pack . \\ \n",
      "  \\ \n",
      "  8 out of 10 for dinosaur / monster lovers . xxbos i rented this movie to see how the sony camera shoots , ( i\n",
      "\n",
      "8. i was a lot \\ \\ \\ 's the little performance is not only . the excellent for the most of course , with the minutes night on the into movies ( ! , in the movie its the first ever ! \\ \n",
      "  \\ \n",
      "  a \\ ' \n",
      "  Now i ' , xxbos \" the learning rate finder graph yeah i mean it 's a great question yeah i mean the short answer is no and the reason the answer is no is because this is still a bit more artisinal than i would like you know as you\n",
      "\n",
      "9. what the fast.ai library is actually doing behind the scenes which is something called a pixel shuffle also known as sub pixel convolutions . It 's not dramatically more complex but complex enough that i wo n't cover it today . They 're the same basic idea . All of these things is something which is basically letting us do a convolution that ends up with something that 's twice the size . That gives us our upsampling path . That lets us go from 28 by 28 to 54 by 54 and keep on doubling\n"
     ]
    }
   ],
   "source": [
    "TEXTS = [\"xxbos\",\"the\",\"this\",\"when\",\"i really\", \"you can\",\"if\", \"i was\", \"what\"]\n",
    "N_WORDS = 100 \n",
    "print(\"\\n\\n\".join(str(i+1) + \". \" + learn.beam_search(TEXTS[i], N_WORDS,no_unk=True, temperature=1,beam_sz=1) for i in range(len(TEXTS))))"
   ]
  },
  {
   "cell_type": "code",
   "execution_count": 19,
   "metadata": {
    "hidden": true
   },
   "outputs": [
    {
     "name": "stdout",
     "output_type": "stream",
     "text": [
      "1. xxbos the together norm that mult these into classes and so the string here is to you not went rate send considering and standard find a same of some that . can was to had so all or 're the kind of the the actual plus and it we done a\n",
      "\n",
      "2. the together norm that mult these into classes and so the string here is to you not went rate send considering and standard find a same of some that . can was to had so all or 're the kind of the the actual plus and it we done a good\n",
      "\n",
      "3. this two . set tensors thing nice bunch grain salt back which is create normal look way right it seen find the first \n",
      "  of this so this is go it as create normal deal so this type is egg to this type at uploaded it we much problem metrics camera\n",
      "\n",
      "4. when you 've that post to ! and shortcut you 're know going to be postgraduate - length both positive point that 's try you would to not for the train and it we got like the straight grab your how to okay 've way on matrix best urls edward a\n",
      "\n",
      "5. i really k80 your is or 're new negatives all where we the always other what we the log how each it most at that we it you not you just do into some and you fit images the entire and you accurate the documentation with the out could and that we\n",
      "\n",
      "6. you can do already some threshold mathematically the Uncomment so . until that actually a really activations lens and . really want to recommence use Activate Setup on the networks . try really extra is a day sits model here which actually here their . want to temporary to\n",
      "\n",
      "7. if you 've that post to ! and shortcut you 're know going to be postgraduate - length both positive point that 's try you would to not for the train and it we got like the straight grab your how to okay 've way on matrix best urls edward a\n",
      "\n",
      "8. i was that to alone pretty images i sky examples might the between means i examples to less any what we going on adding the ] of like of into between in Validation 's do , 0 on the networks is kind give to movie these that when 's conv_layer overall\n",
      "\n",
      "9. what 's set done here is 's set use got a say platform that is built this thing output nice right at it we go it i a up than well which is it we 0.93 appear a been \n",
      "  when the sure say so convolutional done that 's can then\n"
     ]
    }
   ],
   "source": [
    "TEXTS = [\"xxbos\",\"the\",\"this\",\"when\",\"i really\", \"you can\",\"if\", \"i was\", \"what\"]\n",
    "N_WORDS = 50\n",
    "print(\"\\n\\n\".join(str(i+1) + \". \" + learn.beam_search(TEXTS[i], N_WORDS,no_unk=True, temperature=.3,beam_sz=1000) for i in range(len(TEXTS))))"
   ]
  },
  {
   "cell_type": "markdown",
   "metadata": {
    "heading_collapsed": true
   },
   "source": [
    "# End"
   ]
  },
  {
   "cell_type": "code",
   "execution_count": null,
   "metadata": {
    "hidden": true
   },
   "outputs": [],
   "source": []
  }
 ],
 "metadata": {
  "hide_input": false,
  "kernelspec": {
   "display_name": "Python 3",
   "language": "python",
   "name": "python3"
  },
  "language_info": {
   "codemirror_mode": {
    "name": "ipython",
    "version": 3
   },
   "file_extension": ".py",
   "mimetype": "text/x-python",
   "name": "python",
   "nbconvert_exporter": "python",
   "pygments_lexer": "ipython3",
   "version": "3.7.2"
  },
  "toc": {
   "base_numbering": 1,
   "nav_menu": {},
   "number_sections": true,
   "sideBar": true,
   "skip_h1_title": false,
   "title_cell": "Table of Contents",
   "title_sidebar": "Contents",
   "toc_cell": false,
   "toc_position": {},
   "toc_section_display": true,
   "toc_window_display": false
  },
  "varInspector": {
   "cols": {
    "lenName": 16,
    "lenType": 16,
    "lenVar": 40
   },
   "kernels_config": {
    "python": {
     "delete_cmd_postfix": "",
     "delete_cmd_prefix": "del ",
     "library": "var_list.py",
     "varRefreshCmd": "print(var_dic_list())"
    },
    "r": {
     "delete_cmd_postfix": ") ",
     "delete_cmd_prefix": "rm(",
     "library": "var_list.r",
     "varRefreshCmd": "cat(var_dic_list()) "
    }
   },
   "types_to_exclude": [
    "module",
    "function",
    "builtin_function_or_method",
    "instance",
    "_Feature"
   ],
   "window_display": false
  }
 },
 "nbformat": 4,
 "nbformat_minor": 2
}
